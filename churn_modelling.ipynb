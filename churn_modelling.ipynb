{
  "nbformat": 4,
  "nbformat_minor": 0,
  "metadata": {
    "colab": {
      "name": "churn_modelling.ipynb",
      "version": "0.3.2",
      "provenance": [],
      "collapsed_sections": [
        "2BvZ0tcaaR6q",
        "xL4eSX4vD0E8",
        "QfDyGTK4wWIl",
        "gqpXxHx9u4Ua",
        "01XUb2HVKc7j",
        "ZhpOpPCPKo8k",
        "WdXo2HFiK2ty",
        "mJBWUClCLIpI",
        "FTNfJ57jLUFe",
        "ZxzI3-ZNLjhf",
        "UnZ_A61SLxke",
        "JepQgMZeL9_E",
        "yTA86fJIMJhT",
        "Urz0EqoYMUpr",
        "pS_zMyWAv_xu",
        "WEJEx0gGp2am",
        "LU6LK1csp_95",
        "eTHE-L5gwi_c"
      ],
      "include_colab_link": true
    },
    "kernelspec": {
      "name": "python3",
      "display_name": "Python 3"
    },
    "accelerator": "GPU"
  },
  "cells": [
    {
      "cell_type": "markdown",
      "metadata": {
        "id": "view-in-github",
        "colab_type": "text"
      },
      "source": [
        "<a href=\"https://colab.research.google.com/github/cunhamaicon/churn_modelling_deepaz/blob/master/churn_modelling.ipynb\" target=\"_parent\"><img src=\"https://colab.research.google.com/assets/colab-badge.svg\" alt=\"Open In Colab\"/></a>"
      ]
    },
    {
      "cell_type": "markdown",
      "metadata": {
        "id": "2BvZ0tcaaR6q",
        "colab_type": "text"
      },
      "source": [
        "#Churn Modelling"
      ]
    },
    {
      "cell_type": "markdown",
      "metadata": {
        "id": "XEAnfUJRPsXW",
        "colab_type": "text"
      },
      "source": [
        "---\n",
        "\n",
        "\n",
        "**Autor: Maicon Henrique Cunha**\n",
        "\n",
        "**email: maiconhenrique@hotmail.com**\n",
        "\n",
        "**Github: [https://github.com/cunhamaicon](https://github.com/cunhamaicon/)**\n",
        "\n",
        "\n",
        "---\n",
        "\n",
        "Nesse trabalho trataremos de um problema de churn que consiste em investigar e criar um modelo para identificar  usuários de um banco fictício que estão deixando de ser correntistas.\n",
        "<br><br>\n",
        "\n",
        "Três abordagens distintas serão realizadas:\n",
        "\n",
        "\n",
        "1.   Investigação utilizando gráficos\n",
        "2.   Investigação e modelagem utilizando regressão logística\n",
        "3. Modelagem utilizando redes neurais\n",
        "\n",
        "\n",
        "O banco de dados ficitício utlizado para esse projeto originalmente encontra-se [aqui](https://www.superdatascience.com/pages/deep-learning).\n",
        "<br><br>\n",
        " Esse tipo de problema é muito comum em qualquer área e a abordagem utilizada aqui é geral.\n",
        "<br><br>\n",
        "Todo o código foi feito no Colab e pode ser executado on-line em [https://colab.research.google.com/](https://colab.research.google.com/). \n",
        "\n",
        "\n"
      ]
    },
    {
      "cell_type": "markdown",
      "metadata": {
        "id": "xL4eSX4vD0E8",
        "colab_type": "text"
      },
      "source": [
        "# Abordagem1: visualizando graficamente informações sobre o banco"
      ]
    },
    {
      "cell_type": "markdown",
      "metadata": {
        "id": "QfDyGTK4wWIl",
        "colab_type": "text"
      },
      "source": [
        "## Informações iniciais"
      ]
    },
    {
      "cell_type": "markdown",
      "metadata": {
        "id": "rCYXQBHzvK8U",
        "colab_type": "text"
      },
      "source": [
        "Conferindo o número total de usuários do banco e aqueles que deixaram de ser correntistas:\n",
        "\n",
        "![alt text](https://github.com/cunhamaicon/churn_modelling_deepaz/blob/master/img/usuarios.jpg?raw=true)"
      ]
    },
    {
      "cell_type": "markdown",
      "metadata": {
        "id": "gqpXxHx9u4Ua",
        "colab_type": "text"
      },
      "source": [
        "## Usuários que deixaram o banco por variável:"
      ]
    },
    {
      "cell_type": "markdown",
      "metadata": {
        "id": "01XUb2HVKc7j",
        "colab_type": "text"
      },
      "source": [
        "### Gênero"
      ]
    },
    {
      "cell_type": "markdown",
      "metadata": {
        "id": "zOJmC51sJUE9",
        "colab_type": "text"
      },
      "source": [
        "![alt text](https://github.com/cunhamaicon/churn_modelling_deepaz/blob/master/img/genero.jpg?raw=true)"
      ]
    },
    {
      "cell_type": "markdown",
      "metadata": {
        "id": "15Tl-M-dp-m5",
        "colab_type": "text"
      },
      "source": [
        "Em números e com aplicação do teste chi-quadrado temos:\n",
        "\n",
        "![alt text](https://github.com/cunhamaicon/churn_modelling_deepaz/blob/master/img/genero_abs.jpg?raw=true)"
      ]
    },
    {
      "cell_type": "markdown",
      "metadata": {
        "id": "ZhpOpPCPKo8k",
        "colab_type": "text"
      },
      "source": [
        "###País:"
      ]
    },
    {
      "cell_type": "markdown",
      "metadata": {
        "id": "JDfNkTvAKuif",
        "colab_type": "text"
      },
      "source": [
        "![alt text](https://github.com/cunhamaicon/churn_modelling_deepaz/blob/master/img/geografia.jpg?raw=true)"
      ]
    },
    {
      "cell_type": "markdown",
      "metadata": {
        "id": "Kp05T150qXWR",
        "colab_type": "text"
      },
      "source": [
        "Em números e com aplicação do teste chi-quadrado temos:\n",
        "\n",
        "![alt text](https://github.com/cunhamaicon/churn_modelling_deepaz/blob/master/img/geografia_abs.jpg?raw=true)"
      ]
    },
    {
      "cell_type": "markdown",
      "metadata": {
        "id": "WdXo2HFiK2ty",
        "colab_type": "text"
      },
      "source": [
        "### Usuários com cartão"
      ]
    },
    {
      "cell_type": "markdown",
      "metadata": {
        "id": "335DMk3pLCzd",
        "colab_type": "text"
      },
      "source": [
        "![alt text](https://github.com/cunhamaicon/churn_modelling_deepaz/blob/master/img/cartao.jpg?raw=true)"
      ]
    },
    {
      "cell_type": "markdown",
      "metadata": {
        "id": "x5dYHSBlqgiJ",
        "colab_type": "text"
      },
      "source": [
        "Em números absolutos e com aplicação do teste chi-quadrado temos:\n",
        "\n",
        "![alt text](https://github.com/cunhamaicon/churn_modelling_deepaz/blob/master/img/cartao_abs.jpg?raw=true)\n",
        "\n"
      ]
    },
    {
      "cell_type": "markdown",
      "metadata": {
        "id": "mJBWUClCLIpI",
        "colab_type": "text"
      },
      "source": [
        "###Usuários ativos"
      ]
    },
    {
      "cell_type": "markdown",
      "metadata": {
        "id": "eTTDWt-iLNwY",
        "colab_type": "text"
      },
      "source": [
        "![alt text](https://github.com/cunhamaicon/churn_modelling_deepaz/blob/master/img/ativo.jpg?raw=true)"
      ]
    },
    {
      "cell_type": "markdown",
      "metadata": {
        "id": "rtxRQlGuq4Si",
        "colab_type": "text"
      },
      "source": [
        "Em números absolutos e com aplicação do teste chi-quadrado temos:\n",
        "\n",
        "![alt text](https://github.com/cunhamaicon/churn_modelling_deepaz/blob/master/img/ativo_abs.jpg?raw=true)"
      ]
    },
    {
      "cell_type": "markdown",
      "metadata": {
        "id": "FTNfJ57jLUFe",
        "colab_type": "text"
      },
      "source": [
        "###Número de produtos"
      ]
    },
    {
      "cell_type": "markdown",
      "metadata": {
        "id": "Sd7FTG3JLZLN",
        "colab_type": "text"
      },
      "source": [
        "![alt text](https://github.com/cunhamaicon/churn_modelling_deepaz/blob/master/img/num_produtos.jpg?raw=true)"
      ]
    },
    {
      "cell_type": "markdown",
      "metadata": {
        "id": "P7JeSo5PrVAl",
        "colab_type": "text"
      },
      "source": [
        "Em números absolutos e com aplicação do teste chi-quadrado temos:\n",
        "\n",
        "![alt text](https://github.com/cunhamaicon/churn_modelling_deepaz/blob/master/img/num_produtos._abs.jpg?raw=true)"
      ]
    },
    {
      "cell_type": "markdown",
      "metadata": {
        "id": "ZxzI3-ZNLjhf",
        "colab_type": "text"
      },
      "source": [
        "### Score"
      ]
    },
    {
      "cell_type": "markdown",
      "metadata": {
        "id": "R5DU_8bnLrzt",
        "colab_type": "text"
      },
      "source": [
        "![alt text](https://github.com/cunhamaicon/churn_modelling_deepaz/blob/master/img/score.jpg?raw=true)"
      ]
    },
    {
      "cell_type": "markdown",
      "metadata": {
        "id": "UnZ_A61SLxke",
        "colab_type": "text"
      },
      "source": [
        "###Idade"
      ]
    },
    {
      "cell_type": "markdown",
      "metadata": {
        "id": "pnngxBskL1yM",
        "colab_type": "text"
      },
      "source": [
        "![alt text](https://github.com/cunhamaicon/churn_modelling_deepaz/blob/master/img/idade.jpg?raw=true)"
      ]
    },
    {
      "cell_type": "markdown",
      "metadata": {
        "id": "IF5oXpakruWZ",
        "colab_type": "text"
      },
      "source": [
        "Em números absolutos e com aplicação do teste chi-quadrado temos:\n",
        "\n",
        "![alt text](https://github.com/cunhamaicon/churn_modelling_deepaz/blob/master/img/idade_abs.jpg?raw=true)"
      ]
    },
    {
      "cell_type": "markdown",
      "metadata": {
        "id": "JepQgMZeL9_E",
        "colab_type": "text"
      },
      "source": [
        "### Balanço"
      ]
    },
    {
      "cell_type": "markdown",
      "metadata": {
        "id": "NDJarghUMDXp",
        "colab_type": "text"
      },
      "source": [
        "![alt text](https://github.com/cunhamaicon/churn_modelling_deepaz/blob/master/img/balanco.jpg?raw=true)"
      ]
    },
    {
      "cell_type": "markdown",
      "metadata": {
        "id": "IhSNSIq7r2n7",
        "colab_type": "text"
      },
      "source": [
        "Em números absolutos e com aplicação do teste chi-quadrado temos:\n",
        "\n",
        "![alt text](https://github.com/cunhamaicon/churn_modelling_deepaz/blob/master/img/balanco_abs.jpg?raw=true)"
      ]
    },
    {
      "cell_type": "markdown",
      "metadata": {
        "id": "yTA86fJIMJhT",
        "colab_type": "text"
      },
      "source": [
        "### Salário estimado"
      ]
    },
    {
      "cell_type": "markdown",
      "metadata": {
        "id": "lpvP4JDOMOpP",
        "colab_type": "text"
      },
      "source": [
        "![alt text](https://github.com/cunhamaicon/churn_modelling_deepaz/blob/master/img/salario.jpg?raw=true)"
      ]
    },
    {
      "cell_type": "markdown",
      "metadata": {
        "id": "Fw7Y_yunsDXl",
        "colab_type": "text"
      },
      "source": [
        "Em números absolutos e com aplicação do teste chi-quadrado temos:\n",
        "\n",
        "![alt text](https://github.com/cunhamaicon/churn_modelling_deepaz/blob/master/img/salario_abs.jpg?raw=true)"
      ]
    },
    {
      "cell_type": "markdown",
      "metadata": {
        "id": "Urz0EqoYMUpr",
        "colab_type": "text"
      },
      "source": [
        "### Tempo de permanência"
      ]
    },
    {
      "cell_type": "markdown",
      "metadata": {
        "id": "RMluSYmAMcrt",
        "colab_type": "text"
      },
      "source": [
        "![alt text](https://github.com/cunhamaicon/churn_modelling_deepaz/blob/master/img/permanencia.jpg?raw=true)"
      ]
    },
    {
      "cell_type": "markdown",
      "metadata": {
        "id": "MfGmP9o0sRSZ",
        "colab_type": "text"
      },
      "source": [
        "Em números absolutos e com aplicação do teste chi-quadrado temos:\n",
        "\n",
        "![alt text](https://github.com/cunhamaicon/churn_modelling_deepaz/blob/master/img/permanencia_abs.jpg?raw=true)"
      ]
    },
    {
      "cell_type": "markdown",
      "metadata": {
        "id": "pS_zMyWAv_xu",
        "colab_type": "text"
      },
      "source": [
        "## Observações:\n",
        "\n",
        "\n",
        "\n",
        "\n"
      ]
    },
    {
      "cell_type": "markdown",
      "metadata": {
        "id": "8ae2nkqXDNMQ",
        "colab_type": "text"
      },
      "source": [
        "1.   Olhando graficamente e a partir do teste chi-quadrado é possível eliminar algumas variáveis da análise, são elas: \"Usuários com cartão\", \"Score\" e \"Salário estimado\".\n",
        "2.   Aparentemente as variáveis \"País\", \"Gênero\" e \"Usuário Ativo\" possuem grande relevância no problema. Os usuários da Alemanha permaneceram mais no banco que os de outros países, assim como os usuários do sexo masculino permaneceram mais no banco que os usuários do sexo feminino e os membros ativos possuem uma chance maior de permanecer no banco.\n",
        "3. É de se esperar que a medida que o número de produtos de um cliente em um banco seja maior, sua chance de permanecer correntista seja maior também, o que não aconteceu, por isso a variável \"Número de produtos\" deve ser investigada.\n",
        "4. É de se esperar que a medida que o tempo de permanência de um cliente em um banco seja maior, sua chance de permanecer correntista seja maior também, o que não aconteceu, por isso a variável \"Tempo de permanência\" deve ser investigada.\n",
        "5. Utilizando regressão logística será possível medir o impacto dessas variáveis observadas no modelo e assim ordenar quais possuem mais ou menos importância e devem ser levadas em consideração em um intervenção real.\n",
        "\n"
      ]
    },
    {
      "cell_type": "markdown",
      "metadata": {
        "id": "WEJEx0gGp2am",
        "colab_type": "text"
      },
      "source": [
        "# Abordagem 2: regressão logística"
      ]
    },
    {
      "cell_type": "markdown",
      "metadata": {
        "id": "izXCo5Rq2lwV",
        "colab_type": "text"
      },
      "source": [
        "## Procedimentos iniciais"
      ]
    },
    {
      "cell_type": "markdown",
      "metadata": {
        "id": "ZDDd9SFgXUVG",
        "colab_type": "text"
      },
      "source": [
        "### Clone da pasta"
      ]
    },
    {
      "cell_type": "code",
      "metadata": {
        "id": "XRMR0ZlD2-1r",
        "colab_type": "code",
        "outputId": "0b66663e-c6dd-4446-d681-3fd617d14344",
        "colab": {
          "base_uri": "https://localhost:8080/",
          "height": 118
        }
      },
      "source": [
        "!git clone https://github.com/cunhamaicon/churn_modelling_deepaz"
      ],
      "execution_count": 1,
      "outputs": [
        {
          "output_type": "stream",
          "text": [
            "Cloning into 'churn_modelling_deepaz'...\n",
            "remote: Enumerating objects: 32, done.\u001b[K\n",
            "remote: Counting objects: 100% (32/32), done.\u001b[K\n",
            "remote: Compressing objects: 100% (29/29), done.\u001b[K\n",
            "remote: Total 32 (delta 2), reused 30 (delta 2), pack-reused 0\u001b[K\n",
            "Unpacking objects: 100% (32/32), done.\n"
          ],
          "name": "stdout"
        }
      ]
    },
    {
      "cell_type": "markdown",
      "metadata": {
        "id": "lQHyGk7PSff6",
        "colab_type": "text"
      },
      "source": [
        "Visualizando as informações da pasta clonada:"
      ]
    },
    {
      "cell_type": "code",
      "metadata": {
        "id": "rMU_ZjJd4x8k",
        "colab_type": "code",
        "outputId": "9ff329b0-a3ae-489e-8b35-2a54357b05f3",
        "colab": {
          "base_uri": "https://localhost:8080/",
          "height": 34
        }
      },
      "source": [
        " ls churn_modelling_deepaz"
      ],
      "execution_count": 2,
      "outputs": [
        {
          "output_type": "stream",
          "text": [
            "Churn_Modelling.csv  churn_modelling.ipynb  \u001b[0m\u001b[01;34mimg\u001b[0m/\n"
          ],
          "name": "stdout"
        }
      ]
    },
    {
      "cell_type": "markdown",
      "metadata": {
        "id": "e6xVJEHo2tmT",
        "colab_type": "text"
      },
      "source": [
        "### Importação de pacotes"
      ]
    },
    {
      "cell_type": "code",
      "metadata": {
        "id": "VlnMbFlY2wNK",
        "colab_type": "code",
        "colab": {}
      },
      "source": [
        "import numpy as np\n",
        "import matplotlib.pyplot as plt\n",
        "import pandas as pd\n",
        "import os\n",
        "import keras\n",
        "from keras.models import Sequential\n",
        "from keras.layers import Dense\n",
        "from keras.optimizers import Adam\n",
        "from keras.layers import Dropout\n",
        "import seaborn as sns\n",
        "from sklearn import metrics\n",
        "from sklearn.metrics import confusion_matrix\n",
        "from keras.wrappers.scikit_learn import KerasClassifier\n",
        "from sklearn.model_selection import cross_val_score\n",
        "from keras.optimizers import RMSprop\n",
        "from sklearn.model_selection import train_test_split\n",
        "from sklearn.preprocessing import StandardScaler\n",
        "from sklearn.linear_model import LogisticRegression\n",
        "from sklearn.metrics import roc_auc_score\n",
        "from sklearn.metrics import roc_curve\n",
        "import statsmodels.api as sm"
      ],
      "execution_count": 0,
      "outputs": []
    },
    {
      "cell_type": "markdown",
      "metadata": {
        "id": "YxImy91b494B",
        "colab_type": "text"
      },
      "source": [
        "### Criação do dataset"
      ]
    },
    {
      "cell_type": "code",
      "metadata": {
        "id": "icfaqd1G5DkV",
        "colab_type": "code",
        "colab": {}
      },
      "source": [
        "datadir='churn_modelling_deepaz'\n",
        "dataset = pd.read_csv(os.path.join(datadir, \"Churn_Modelling.csv\"))\n",
        "pd.set_option('display.max_colwidth',-1)"
      ],
      "execution_count": 0,
      "outputs": []
    },
    {
      "cell_type": "markdown",
      "metadata": {
        "id": "zrqTX6XDTYu8",
        "colab_type": "text"
      },
      "source": [
        "Visualizando o cabeçalho do banco:"
      ]
    },
    {
      "cell_type": "code",
      "metadata": {
        "id": "xv_F7vAA5Xdl",
        "colab_type": "code",
        "outputId": "607f3958-5302-411f-e30a-2e8636dcd0be",
        "colab": {
          "base_uri": "https://localhost:8080/",
          "height": 195
        }
      },
      "source": [
        "dataset.head()"
      ],
      "execution_count": 5,
      "outputs": [
        {
          "output_type": "execute_result",
          "data": {
            "text/html": [
              "<div>\n",
              "<style scoped>\n",
              "    .dataframe tbody tr th:only-of-type {\n",
              "        vertical-align: middle;\n",
              "    }\n",
              "\n",
              "    .dataframe tbody tr th {\n",
              "        vertical-align: top;\n",
              "    }\n",
              "\n",
              "    .dataframe thead th {\n",
              "        text-align: right;\n",
              "    }\n",
              "</style>\n",
              "<table border=\"1\" class=\"dataframe\">\n",
              "  <thead>\n",
              "    <tr style=\"text-align: right;\">\n",
              "      <th></th>\n",
              "      <th>RowNumber</th>\n",
              "      <th>CustomerId</th>\n",
              "      <th>Surname</th>\n",
              "      <th>CreditScore</th>\n",
              "      <th>Geography</th>\n",
              "      <th>Gender</th>\n",
              "      <th>Age</th>\n",
              "      <th>Tenure</th>\n",
              "      <th>Balance</th>\n",
              "      <th>NumOfProducts</th>\n",
              "      <th>HasCrCard</th>\n",
              "      <th>IsActiveMember</th>\n",
              "      <th>EstimatedSalary</th>\n",
              "      <th>Exited</th>\n",
              "    </tr>\n",
              "  </thead>\n",
              "  <tbody>\n",
              "    <tr>\n",
              "      <th>0</th>\n",
              "      <td>1</td>\n",
              "      <td>15634602</td>\n",
              "      <td>Hargrave</td>\n",
              "      <td>619</td>\n",
              "      <td>France</td>\n",
              "      <td>Female</td>\n",
              "      <td>42</td>\n",
              "      <td>2</td>\n",
              "      <td>0.00</td>\n",
              "      <td>1</td>\n",
              "      <td>1</td>\n",
              "      <td>1</td>\n",
              "      <td>101348.88</td>\n",
              "      <td>1</td>\n",
              "    </tr>\n",
              "    <tr>\n",
              "      <th>1</th>\n",
              "      <td>2</td>\n",
              "      <td>15647311</td>\n",
              "      <td>Hill</td>\n",
              "      <td>608</td>\n",
              "      <td>Spain</td>\n",
              "      <td>Female</td>\n",
              "      <td>41</td>\n",
              "      <td>1</td>\n",
              "      <td>83807.86</td>\n",
              "      <td>1</td>\n",
              "      <td>0</td>\n",
              "      <td>1</td>\n",
              "      <td>112542.58</td>\n",
              "      <td>0</td>\n",
              "    </tr>\n",
              "    <tr>\n",
              "      <th>2</th>\n",
              "      <td>3</td>\n",
              "      <td>15619304</td>\n",
              "      <td>Onio</td>\n",
              "      <td>502</td>\n",
              "      <td>France</td>\n",
              "      <td>Female</td>\n",
              "      <td>42</td>\n",
              "      <td>8</td>\n",
              "      <td>159660.80</td>\n",
              "      <td>3</td>\n",
              "      <td>1</td>\n",
              "      <td>0</td>\n",
              "      <td>113931.57</td>\n",
              "      <td>1</td>\n",
              "    </tr>\n",
              "    <tr>\n",
              "      <th>3</th>\n",
              "      <td>4</td>\n",
              "      <td>15701354</td>\n",
              "      <td>Boni</td>\n",
              "      <td>699</td>\n",
              "      <td>France</td>\n",
              "      <td>Female</td>\n",
              "      <td>39</td>\n",
              "      <td>1</td>\n",
              "      <td>0.00</td>\n",
              "      <td>2</td>\n",
              "      <td>0</td>\n",
              "      <td>0</td>\n",
              "      <td>93826.63</td>\n",
              "      <td>0</td>\n",
              "    </tr>\n",
              "    <tr>\n",
              "      <th>4</th>\n",
              "      <td>5</td>\n",
              "      <td>15737888</td>\n",
              "      <td>Mitchell</td>\n",
              "      <td>850</td>\n",
              "      <td>Spain</td>\n",
              "      <td>Female</td>\n",
              "      <td>43</td>\n",
              "      <td>2</td>\n",
              "      <td>125510.82</td>\n",
              "      <td>1</td>\n",
              "      <td>1</td>\n",
              "      <td>1</td>\n",
              "      <td>79084.10</td>\n",
              "      <td>0</td>\n",
              "    </tr>\n",
              "  </tbody>\n",
              "</table>\n",
              "</div>"
            ],
            "text/plain": [
              "   RowNumber  CustomerId   Surname  ...  IsActiveMember EstimatedSalary Exited\n",
              "0  1          15634602    Hargrave  ...  1               101348.88       1    \n",
              "1  2          15647311    Hill      ...  1               112542.58       0    \n",
              "2  3          15619304    Onio      ...  0               113931.57       1    \n",
              "3  4          15701354    Boni      ...  0               93826.63        0    \n",
              "4  5          15737888    Mitchell  ...  1               79084.10        0    \n",
              "\n",
              "[5 rows x 14 columns]"
            ]
          },
          "metadata": {
            "tags": []
          },
          "execution_count": 5
        }
      ]
    },
    {
      "cell_type": "markdown",
      "metadata": {
        "id": "lxD_2LPnTekS",
        "colab_type": "text"
      },
      "source": [
        "Visualizando informações do banco:"
      ]
    },
    {
      "cell_type": "code",
      "metadata": {
        "id": "nNUNIE4uTi9K",
        "colab_type": "code",
        "outputId": "7c2bd1f8-94e1-4156-b38e-ee8daf58f718",
        "colab": {
          "base_uri": "https://localhost:8080/",
          "height": 336
        }
      },
      "source": [
        "dataset.info()"
      ],
      "execution_count": 6,
      "outputs": [
        {
          "output_type": "stream",
          "text": [
            "<class 'pandas.core.frame.DataFrame'>\n",
            "RangeIndex: 10000 entries, 0 to 9999\n",
            "Data columns (total 14 columns):\n",
            "RowNumber          10000 non-null int64\n",
            "CustomerId         10000 non-null int64\n",
            "Surname            10000 non-null object\n",
            "CreditScore        10000 non-null int64\n",
            "Geography          10000 non-null object\n",
            "Gender             10000 non-null object\n",
            "Age                10000 non-null int64\n",
            "Tenure             10000 non-null int64\n",
            "Balance            10000 non-null float64\n",
            "NumOfProducts      10000 non-null int64\n",
            "HasCrCard          10000 non-null int64\n",
            "IsActiveMember     10000 non-null int64\n",
            "EstimatedSalary    10000 non-null float64\n",
            "Exited             10000 non-null int64\n",
            "dtypes: float64(2), int64(9), object(3)\n",
            "memory usage: 1.1+ MB\n"
          ],
          "name": "stdout"
        }
      ]
    },
    {
      "cell_type": "markdown",
      "metadata": {
        "id": "l-UMoyf_Tquc",
        "colab_type": "text"
      },
      "source": [
        "Como podemos observar se trata de um banco com dez mil usuários onde todas as entradas são não nulas"
      ]
    },
    {
      "cell_type": "markdown",
      "metadata": {
        "id": "nx9qsxV5XcpA",
        "colab_type": "text"
      },
      "source": [
        "### Tratamento do banco"
      ]
    },
    {
      "cell_type": "markdown",
      "metadata": {
        "id": "XC9FSwHGXnPb",
        "colab_type": "text"
      },
      "source": [
        "Exluindo colunas que não serão utilizadas:"
      ]
    },
    {
      "cell_type": "code",
      "metadata": {
        "id": "K8KLez8F5a2i",
        "colab_type": "code",
        "colab": {}
      },
      "source": [
        "dataset = dataset.drop(columns = ['RowNumber','CustomerId','Surname'])"
      ],
      "execution_count": 0,
      "outputs": []
    },
    {
      "cell_type": "code",
      "metadata": {
        "id": "TwzfIzkz6aQc",
        "colab_type": "code",
        "outputId": "ce0377cc-018a-4f7e-f4a4-56f9f81d38bd",
        "colab": {
          "base_uri": "https://localhost:8080/",
          "height": 195
        }
      },
      "source": [
        "dataset.head()"
      ],
      "execution_count": 8,
      "outputs": [
        {
          "output_type": "execute_result",
          "data": {
            "text/html": [
              "<div>\n",
              "<style scoped>\n",
              "    .dataframe tbody tr th:only-of-type {\n",
              "        vertical-align: middle;\n",
              "    }\n",
              "\n",
              "    .dataframe tbody tr th {\n",
              "        vertical-align: top;\n",
              "    }\n",
              "\n",
              "    .dataframe thead th {\n",
              "        text-align: right;\n",
              "    }\n",
              "</style>\n",
              "<table border=\"1\" class=\"dataframe\">\n",
              "  <thead>\n",
              "    <tr style=\"text-align: right;\">\n",
              "      <th></th>\n",
              "      <th>CreditScore</th>\n",
              "      <th>Geography</th>\n",
              "      <th>Gender</th>\n",
              "      <th>Age</th>\n",
              "      <th>Tenure</th>\n",
              "      <th>Balance</th>\n",
              "      <th>NumOfProducts</th>\n",
              "      <th>HasCrCard</th>\n",
              "      <th>IsActiveMember</th>\n",
              "      <th>EstimatedSalary</th>\n",
              "      <th>Exited</th>\n",
              "    </tr>\n",
              "  </thead>\n",
              "  <tbody>\n",
              "    <tr>\n",
              "      <th>0</th>\n",
              "      <td>619</td>\n",
              "      <td>France</td>\n",
              "      <td>Female</td>\n",
              "      <td>42</td>\n",
              "      <td>2</td>\n",
              "      <td>0.00</td>\n",
              "      <td>1</td>\n",
              "      <td>1</td>\n",
              "      <td>1</td>\n",
              "      <td>101348.88</td>\n",
              "      <td>1</td>\n",
              "    </tr>\n",
              "    <tr>\n",
              "      <th>1</th>\n",
              "      <td>608</td>\n",
              "      <td>Spain</td>\n",
              "      <td>Female</td>\n",
              "      <td>41</td>\n",
              "      <td>1</td>\n",
              "      <td>83807.86</td>\n",
              "      <td>1</td>\n",
              "      <td>0</td>\n",
              "      <td>1</td>\n",
              "      <td>112542.58</td>\n",
              "      <td>0</td>\n",
              "    </tr>\n",
              "    <tr>\n",
              "      <th>2</th>\n",
              "      <td>502</td>\n",
              "      <td>France</td>\n",
              "      <td>Female</td>\n",
              "      <td>42</td>\n",
              "      <td>8</td>\n",
              "      <td>159660.80</td>\n",
              "      <td>3</td>\n",
              "      <td>1</td>\n",
              "      <td>0</td>\n",
              "      <td>113931.57</td>\n",
              "      <td>1</td>\n",
              "    </tr>\n",
              "    <tr>\n",
              "      <th>3</th>\n",
              "      <td>699</td>\n",
              "      <td>France</td>\n",
              "      <td>Female</td>\n",
              "      <td>39</td>\n",
              "      <td>1</td>\n",
              "      <td>0.00</td>\n",
              "      <td>2</td>\n",
              "      <td>0</td>\n",
              "      <td>0</td>\n",
              "      <td>93826.63</td>\n",
              "      <td>0</td>\n",
              "    </tr>\n",
              "    <tr>\n",
              "      <th>4</th>\n",
              "      <td>850</td>\n",
              "      <td>Spain</td>\n",
              "      <td>Female</td>\n",
              "      <td>43</td>\n",
              "      <td>2</td>\n",
              "      <td>125510.82</td>\n",
              "      <td>1</td>\n",
              "      <td>1</td>\n",
              "      <td>1</td>\n",
              "      <td>79084.10</td>\n",
              "      <td>0</td>\n",
              "    </tr>\n",
              "  </tbody>\n",
              "</table>\n",
              "</div>"
            ],
            "text/plain": [
              "   CreditScore Geography  Gender  ...  IsActiveMember  EstimatedSalary  Exited\n",
              "0  619          France    Female  ...  1               101348.88        1     \n",
              "1  608          Spain     Female  ...  1               112542.58        0     \n",
              "2  502          France    Female  ...  0               113931.57        1     \n",
              "3  699          France    Female  ...  0               93826.63         0     \n",
              "4  850          Spain     Female  ...  1               79084.10         0     \n",
              "\n",
              "[5 rows x 11 columns]"
            ]
          },
          "metadata": {
            "tags": []
          },
          "execution_count": 8
        }
      ]
    },
    {
      "cell_type": "markdown",
      "metadata": {
        "id": "_903J6DoXvN9",
        "colab_type": "text"
      },
      "source": [
        "Criando dummies das variáveis categóricas \"Geography\" e \"Gender\":"
      ]
    },
    {
      "cell_type": "code",
      "metadata": {
        "id": "eBl0YnF29imc",
        "colab_type": "code",
        "outputId": "f4e831aa-caa8-4827-caaa-340ddf624d8c",
        "colab": {
          "base_uri": "https://localhost:8080/",
          "height": 195
        }
      },
      "source": [
        "dataset = pd.get_dummies(dataset, columns =['Geography','Gender'], drop_first=True)\n",
        "dataset.head()"
      ],
      "execution_count": 9,
      "outputs": [
        {
          "output_type": "execute_result",
          "data": {
            "text/html": [
              "<div>\n",
              "<style scoped>\n",
              "    .dataframe tbody tr th:only-of-type {\n",
              "        vertical-align: middle;\n",
              "    }\n",
              "\n",
              "    .dataframe tbody tr th {\n",
              "        vertical-align: top;\n",
              "    }\n",
              "\n",
              "    .dataframe thead th {\n",
              "        text-align: right;\n",
              "    }\n",
              "</style>\n",
              "<table border=\"1\" class=\"dataframe\">\n",
              "  <thead>\n",
              "    <tr style=\"text-align: right;\">\n",
              "      <th></th>\n",
              "      <th>CreditScore</th>\n",
              "      <th>Age</th>\n",
              "      <th>Tenure</th>\n",
              "      <th>Balance</th>\n",
              "      <th>NumOfProducts</th>\n",
              "      <th>HasCrCard</th>\n",
              "      <th>IsActiveMember</th>\n",
              "      <th>EstimatedSalary</th>\n",
              "      <th>Exited</th>\n",
              "      <th>Geography_Germany</th>\n",
              "      <th>Geography_Spain</th>\n",
              "      <th>Gender_Male</th>\n",
              "    </tr>\n",
              "  </thead>\n",
              "  <tbody>\n",
              "    <tr>\n",
              "      <th>0</th>\n",
              "      <td>619</td>\n",
              "      <td>42</td>\n",
              "      <td>2</td>\n",
              "      <td>0.00</td>\n",
              "      <td>1</td>\n",
              "      <td>1</td>\n",
              "      <td>1</td>\n",
              "      <td>101348.88</td>\n",
              "      <td>1</td>\n",
              "      <td>0</td>\n",
              "      <td>0</td>\n",
              "      <td>0</td>\n",
              "    </tr>\n",
              "    <tr>\n",
              "      <th>1</th>\n",
              "      <td>608</td>\n",
              "      <td>41</td>\n",
              "      <td>1</td>\n",
              "      <td>83807.86</td>\n",
              "      <td>1</td>\n",
              "      <td>0</td>\n",
              "      <td>1</td>\n",
              "      <td>112542.58</td>\n",
              "      <td>0</td>\n",
              "      <td>0</td>\n",
              "      <td>1</td>\n",
              "      <td>0</td>\n",
              "    </tr>\n",
              "    <tr>\n",
              "      <th>2</th>\n",
              "      <td>502</td>\n",
              "      <td>42</td>\n",
              "      <td>8</td>\n",
              "      <td>159660.80</td>\n",
              "      <td>3</td>\n",
              "      <td>1</td>\n",
              "      <td>0</td>\n",
              "      <td>113931.57</td>\n",
              "      <td>1</td>\n",
              "      <td>0</td>\n",
              "      <td>0</td>\n",
              "      <td>0</td>\n",
              "    </tr>\n",
              "    <tr>\n",
              "      <th>3</th>\n",
              "      <td>699</td>\n",
              "      <td>39</td>\n",
              "      <td>1</td>\n",
              "      <td>0.00</td>\n",
              "      <td>2</td>\n",
              "      <td>0</td>\n",
              "      <td>0</td>\n",
              "      <td>93826.63</td>\n",
              "      <td>0</td>\n",
              "      <td>0</td>\n",
              "      <td>0</td>\n",
              "      <td>0</td>\n",
              "    </tr>\n",
              "    <tr>\n",
              "      <th>4</th>\n",
              "      <td>850</td>\n",
              "      <td>43</td>\n",
              "      <td>2</td>\n",
              "      <td>125510.82</td>\n",
              "      <td>1</td>\n",
              "      <td>1</td>\n",
              "      <td>1</td>\n",
              "      <td>79084.10</td>\n",
              "      <td>0</td>\n",
              "      <td>0</td>\n",
              "      <td>1</td>\n",
              "      <td>0</td>\n",
              "    </tr>\n",
              "  </tbody>\n",
              "</table>\n",
              "</div>"
            ],
            "text/plain": [
              "   CreditScore  Age  Tenure  ...  Geography_Germany  Geography_Spain  Gender_Male\n",
              "0  619          42   2       ...  0                  0                0          \n",
              "1  608          41   1       ...  0                  1                0          \n",
              "2  502          42   8       ...  0                  0                0          \n",
              "3  699          39   1       ...  0                  0                0          \n",
              "4  850          43   2       ...  0                  1                0          \n",
              "\n",
              "[5 rows x 12 columns]"
            ]
          },
          "metadata": {
            "tags": []
          },
          "execution_count": 9
        }
      ]
    },
    {
      "cell_type": "markdown",
      "metadata": {
        "id": "_NBZb7kT919V",
        "colab_type": "text"
      },
      "source": [
        "Reordenando as colunas do dataset:"
      ]
    },
    {
      "cell_type": "code",
      "metadata": {
        "id": "vfzl57zLEI1E",
        "colab_type": "code",
        "colab": {}
      },
      "source": [
        "cols = list(dataset.columns.values)"
      ],
      "execution_count": 0,
      "outputs": []
    },
    {
      "cell_type": "code",
      "metadata": {
        "id": "pN8tjCJXFGqm",
        "colab_type": "code",
        "outputId": "2fc391fc-91df-43c4-89e1-f54ed42d4993",
        "colab": {
          "base_uri": "https://localhost:8080/",
          "height": 218
        }
      },
      "source": [
        "cols"
      ],
      "execution_count": 11,
      "outputs": [
        {
          "output_type": "execute_result",
          "data": {
            "text/plain": [
              "['CreditScore',\n",
              " 'Age',\n",
              " 'Tenure',\n",
              " 'Balance',\n",
              " 'NumOfProducts',\n",
              " 'HasCrCard',\n",
              " 'IsActiveMember',\n",
              " 'EstimatedSalary',\n",
              " 'Exited',\n",
              " 'Geography_Germany',\n",
              " 'Geography_Spain',\n",
              " 'Gender_Male']"
            ]
          },
          "metadata": {
            "tags": []
          },
          "execution_count": 11
        }
      ]
    },
    {
      "cell_type": "code",
      "metadata": {
        "id": "5ExoWzryELjw",
        "colab_type": "code",
        "colab": {}
      },
      "source": [
        "dataset = dataset[\n",
        "  ['CreditScore',\n",
        " 'Age',\n",
        " 'Tenure',\n",
        " 'Balance',\n",
        " 'NumOfProducts',\n",
        " 'HasCrCard',\n",
        " 'IsActiveMember',\n",
        " 'EstimatedSalary',\n",
        " 'Geography_Germany',\n",
        " 'Geography_Spain',\n",
        " 'Gender_Male',\n",
        "  'Exited']]"
      ],
      "execution_count": 0,
      "outputs": []
    },
    {
      "cell_type": "code",
      "metadata": {
        "id": "uJZJVyhMEkI-",
        "colab_type": "code",
        "outputId": "ed5bbb14-13c1-43e9-a0d6-4909996fd4dd",
        "colab": {
          "base_uri": "https://localhost:8080/",
          "height": 195
        }
      },
      "source": [
        "dataset.head()"
      ],
      "execution_count": 13,
      "outputs": [
        {
          "output_type": "execute_result",
          "data": {
            "text/html": [
              "<div>\n",
              "<style scoped>\n",
              "    .dataframe tbody tr th:only-of-type {\n",
              "        vertical-align: middle;\n",
              "    }\n",
              "\n",
              "    .dataframe tbody tr th {\n",
              "        vertical-align: top;\n",
              "    }\n",
              "\n",
              "    .dataframe thead th {\n",
              "        text-align: right;\n",
              "    }\n",
              "</style>\n",
              "<table border=\"1\" class=\"dataframe\">\n",
              "  <thead>\n",
              "    <tr style=\"text-align: right;\">\n",
              "      <th></th>\n",
              "      <th>CreditScore</th>\n",
              "      <th>Age</th>\n",
              "      <th>Tenure</th>\n",
              "      <th>Balance</th>\n",
              "      <th>NumOfProducts</th>\n",
              "      <th>HasCrCard</th>\n",
              "      <th>IsActiveMember</th>\n",
              "      <th>EstimatedSalary</th>\n",
              "      <th>Geography_Germany</th>\n",
              "      <th>Geography_Spain</th>\n",
              "      <th>Gender_Male</th>\n",
              "      <th>Exited</th>\n",
              "    </tr>\n",
              "  </thead>\n",
              "  <tbody>\n",
              "    <tr>\n",
              "      <th>0</th>\n",
              "      <td>619</td>\n",
              "      <td>42</td>\n",
              "      <td>2</td>\n",
              "      <td>0.00</td>\n",
              "      <td>1</td>\n",
              "      <td>1</td>\n",
              "      <td>1</td>\n",
              "      <td>101348.88</td>\n",
              "      <td>0</td>\n",
              "      <td>0</td>\n",
              "      <td>0</td>\n",
              "      <td>1</td>\n",
              "    </tr>\n",
              "    <tr>\n",
              "      <th>1</th>\n",
              "      <td>608</td>\n",
              "      <td>41</td>\n",
              "      <td>1</td>\n",
              "      <td>83807.86</td>\n",
              "      <td>1</td>\n",
              "      <td>0</td>\n",
              "      <td>1</td>\n",
              "      <td>112542.58</td>\n",
              "      <td>0</td>\n",
              "      <td>1</td>\n",
              "      <td>0</td>\n",
              "      <td>0</td>\n",
              "    </tr>\n",
              "    <tr>\n",
              "      <th>2</th>\n",
              "      <td>502</td>\n",
              "      <td>42</td>\n",
              "      <td>8</td>\n",
              "      <td>159660.80</td>\n",
              "      <td>3</td>\n",
              "      <td>1</td>\n",
              "      <td>0</td>\n",
              "      <td>113931.57</td>\n",
              "      <td>0</td>\n",
              "      <td>0</td>\n",
              "      <td>0</td>\n",
              "      <td>1</td>\n",
              "    </tr>\n",
              "    <tr>\n",
              "      <th>3</th>\n",
              "      <td>699</td>\n",
              "      <td>39</td>\n",
              "      <td>1</td>\n",
              "      <td>0.00</td>\n",
              "      <td>2</td>\n",
              "      <td>0</td>\n",
              "      <td>0</td>\n",
              "      <td>93826.63</td>\n",
              "      <td>0</td>\n",
              "      <td>0</td>\n",
              "      <td>0</td>\n",
              "      <td>0</td>\n",
              "    </tr>\n",
              "    <tr>\n",
              "      <th>4</th>\n",
              "      <td>850</td>\n",
              "      <td>43</td>\n",
              "      <td>2</td>\n",
              "      <td>125510.82</td>\n",
              "      <td>1</td>\n",
              "      <td>1</td>\n",
              "      <td>1</td>\n",
              "      <td>79084.10</td>\n",
              "      <td>0</td>\n",
              "      <td>1</td>\n",
              "      <td>0</td>\n",
              "      <td>0</td>\n",
              "    </tr>\n",
              "  </tbody>\n",
              "</table>\n",
              "</div>"
            ],
            "text/plain": [
              "   CreditScore  Age  Tenure  ...  Geography_Spain  Gender_Male  Exited\n",
              "0  619          42   2       ...  0                0            1     \n",
              "1  608          41   1       ...  1                0            0     \n",
              "2  502          42   8       ...  0                0            1     \n",
              "3  699          39   1       ...  0                0            0     \n",
              "4  850          43   2       ...  1                0            0     \n",
              "\n",
              "[5 rows x 12 columns]"
            ]
          },
          "metadata": {
            "tags": []
          },
          "execution_count": 13
        }
      ]
    },
    {
      "cell_type": "markdown",
      "metadata": {
        "id": "EfFtZY7WtO9T",
        "colab_type": "text"
      },
      "source": [
        "## Regressão Logística"
      ]
    },
    {
      "cell_type": "markdown",
      "metadata": {
        "id": "tMLtaGQrDmIv",
        "colab_type": "text"
      },
      "source": [
        "Separando as entradas e saídas:"
      ]
    },
    {
      "cell_type": "code",
      "metadata": {
        "id": "JL1pS67PU5SY",
        "colab_type": "code",
        "colab": {}
      },
      "source": [
        "X = dataset.iloc[:,:-1].values\n",
        "y = dataset.iloc[:,-1].values"
      ],
      "execution_count": 0,
      "outputs": []
    },
    {
      "cell_type": "markdown",
      "metadata": {
        "id": "lpBlplWXD4OO",
        "colab_type": "text"
      },
      "source": [
        "Otimizando as variáveis da regressão logística:"
      ]
    },
    {
      "cell_type": "code",
      "metadata": {
        "id": "kyceAFXKtlUz",
        "colab_type": "code",
        "outputId": "befb83a2-5e10-49a1-8405-1cd3db131b70",
        "colab": {
          "base_uri": "https://localhost:8080/",
          "height": 504
        }
      },
      "source": [
        "\n",
        "logit_model=sm.Logit(y,X)\n",
        "result=logit_model.fit()\n",
        "print(result.summary2())"
      ],
      "execution_count": 17,
      "outputs": [
        {
          "output_type": "stream",
          "text": [
            "Optimization terminated successfully.\n",
            "         Current function value: 0.438017\n",
            "         Iterations 6\n",
            "                          Results: Logit\n",
            "==================================================================\n",
            "Model:              Logit            Pseudo R-squared: 0.133      \n",
            "Dependent Variable: y                AIC:              8782.3346  \n",
            "Date:               2019-05-19 12:27 BIC:              8861.6483  \n",
            "No. Observations:   10000            Log-Likelihood:   -4380.2    \n",
            "Df Model:           10               LL-Null:          -5054.9    \n",
            "Df Residuals:       9989             LLR p-value:      8.1277e-284\n",
            "Converged:          1.0000           Scale:            1.0000     \n",
            "No. Iterations:     6.0000                                        \n",
            "--------------------------------------------------------------------\n",
            "           Coef.    Std.Err.      z       P>|z|     [0.025    0.975]\n",
            "--------------------------------------------------------------------\n",
            "x1        -0.0036     0.0002   -18.8820   0.0000   -0.0040   -0.0032\n",
            "x2         0.0586     0.0023    25.0409   0.0000    0.0541    0.0632\n",
            "x3        -0.0399     0.0091    -4.3962   0.0000   -0.0577   -0.0221\n",
            "x4         0.0000     0.0000     1.9478   0.0514   -0.0000    0.0000\n",
            "x5        -0.3309     0.0451    -7.3419   0.0000   -0.4193   -0.2426\n",
            "x6        -0.1938     0.0569    -3.4083   0.0007   -0.3053   -0.0824\n",
            "x7        -1.0736     0.0565   -19.0103   0.0000   -1.1843   -0.9629\n",
            "x8        -0.0000     0.0000    -1.8556   0.0635   -0.0000    0.0000\n",
            "x9         0.7887     0.0673    11.7198   0.0000    0.6568    0.9206\n",
            "x10       -0.0415     0.0695    -0.5975   0.5502   -0.1777    0.0947\n",
            "x11       -0.6193     0.0533   -11.6164   0.0000   -0.7238   -0.5148\n",
            "==================================================================\n",
            "\n"
          ],
          "name": "stdout"
        }
      ]
    },
    {
      "cell_type": "markdown",
      "metadata": {
        "id": "vuetcHoBD-FN",
        "colab_type": "text"
      },
      "source": [
        "Eliminando variáveis sem importância:"
      ]
    },
    {
      "cell_type": "code",
      "metadata": {
        "id": "D6lTuhMtWuA6",
        "colab_type": "code",
        "outputId": "5228f6f2-8d4c-42f2-8a44-418a08bb985c",
        "colab": {
          "base_uri": "https://localhost:8080/",
          "height": 84
        }
      },
      "source": [
        "dataset.columns"
      ],
      "execution_count": 18,
      "outputs": [
        {
          "output_type": "execute_result",
          "data": {
            "text/plain": [
              "Index(['CreditScore', 'Age', 'Tenure', 'Balance', 'NumOfProducts', 'HasCrCard',\n",
              "       'IsActiveMember', 'EstimatedSalary', 'Geography_Germany',\n",
              "       'Geography_Spain', 'Gender_Male', 'Exited'],\n",
              "      dtype='object')"
            ]
          },
          "metadata": {
            "tags": []
          },
          "execution_count": 18
        }
      ]
    },
    {
      "cell_type": "code",
      "metadata": {
        "id": "B0DlVUkmZRu8",
        "colab_type": "code",
        "outputId": "3dae37a2-0e63-4a75-d00b-c67286b677b5",
        "colab": {
          "base_uri": "https://localhost:8080/",
          "height": 67
        }
      },
      "source": [
        "dataset.columns[[0,1,2,4,5,6,8,10]]"
      ],
      "execution_count": 19,
      "outputs": [
        {
          "output_type": "execute_result",
          "data": {
            "text/plain": [
              "Index(['CreditScore', 'Age', 'Tenure', 'NumOfProducts', 'HasCrCard',\n",
              "       'IsActiveMember', 'Geography_Germany', 'Gender_Male'],\n",
              "      dtype='object')"
            ]
          },
          "metadata": {
            "tags": []
          },
          "execution_count": 19
        }
      ]
    },
    {
      "cell_type": "code",
      "metadata": {
        "id": "heC7zF8pzvXP",
        "colab_type": "code",
        "outputId": "11d08555-43b7-44ad-a824-4134a5449906",
        "colab": {
          "base_uri": "https://localhost:8080/",
          "height": 454
        }
      },
      "source": [
        "X = X[:,[0,1,2,4,5,6,8,10]]\n",
        "\n",
        "logit_model=sm.Logit(y,X)\n",
        "result=logit_model.fit()\n",
        "print(result.summary2())\n",
        "\n"
      ],
      "execution_count": 20,
      "outputs": [
        {
          "output_type": "stream",
          "text": [
            "Optimization terminated successfully.\n",
            "         Current function value: 0.438375\n",
            "         Iterations 6\n",
            "                          Results: Logit\n",
            "==================================================================\n",
            "Model:              Logit            Pseudo R-squared: 0.133      \n",
            "Dependent Variable: y                AIC:              8783.4936  \n",
            "Date:               2019-05-19 12:28 BIC:              8841.1763  \n",
            "No. Observations:   10000            Log-Likelihood:   -4383.7    \n",
            "Df Model:           7                LL-Null:          -5054.9    \n",
            "Df Residuals:       9992             LLR p-value:      1.1823e-285\n",
            "Converged:          1.0000           Scale:            1.0000     \n",
            "No. Iterations:     6.0000                                        \n",
            "---------------------------------------------------------------------\n",
            "       Coef.     Std.Err.       z        P>|z|      [0.025     0.975]\n",
            "---------------------------------------------------------------------\n",
            "x1    -0.0036      0.0002    -20.1571    0.0000    -0.0039    -0.0032\n",
            "x2     0.0586      0.0023     25.2418    0.0000     0.0541     0.0632\n",
            "x3    -0.0401      0.0090     -4.4261    0.0000    -0.0578    -0.0223\n",
            "x4    -0.3577      0.0438     -8.1591    0.0000    -0.4437    -0.2718\n",
            "x5    -0.1952      0.0568     -3.4372    0.0006    -0.3065    -0.0839\n",
            "x6    -1.0718      0.0564    -18.9906    0.0000    -1.1824    -0.9612\n",
            "x7     0.8531      0.0572     14.9247    0.0000     0.7411     0.9651\n",
            "x8    -0.6153      0.0532    -11.5701    0.0000    -0.7195    -0.5111\n",
            "==================================================================\n",
            "\n"
          ],
          "name": "stdout"
        }
      ]
    },
    {
      "cell_type": "markdown",
      "metadata": {
        "id": "7lQlZQ08ERc1",
        "colab_type": "text"
      },
      "source": [
        "Separando treinamento e teste:"
      ]
    },
    {
      "cell_type": "code",
      "metadata": {
        "id": "2UodIkx8Zpmd",
        "colab_type": "code",
        "colab": {}
      },
      "source": [
        "X_train,X_test,y_train,y_test = train_test_split(X,y, test_size = 0.2 ,random_state = 0)"
      ],
      "execution_count": 0,
      "outputs": []
    },
    {
      "cell_type": "markdown",
      "metadata": {
        "id": "VIudouWIEUwt",
        "colab_type": "text"
      },
      "source": [
        "Treinando a regressão logística nas variáveis selecionadas:"
      ]
    },
    {
      "cell_type": "code",
      "metadata": {
        "id": "jWi2JlTXugy8",
        "colab_type": "code",
        "colab": {}
      },
      "source": [
        "logreg = LogisticRegression()\n",
        "logreg.fit(X_train, y_train)"
      ],
      "execution_count": 0,
      "outputs": []
    },
    {
      "cell_type": "markdown",
      "metadata": {
        "id": "KYs3asFBEqj9",
        "colab_type": "text"
      },
      "source": [
        "### Acurácia"
      ]
    },
    {
      "cell_type": "markdown",
      "metadata": {
        "id": "C51GGQgKEfEe",
        "colab_type": "text"
      },
      "source": [
        "Veirificando a acurácia da regressão logística no conjunto de testes:"
      ]
    },
    {
      "cell_type": "code",
      "metadata": {
        "id": "BZ7eRJZkvZqt",
        "colab_type": "code",
        "outputId": "b1ff5e15-0b35-47fe-9ec9-b0730846e8c7",
        "colab": {
          "base_uri": "https://localhost:8080/",
          "height": 34
        }
      },
      "source": [
        "y_pred = logreg.predict(X_test)\n",
        "print('Acurácia da regressão logística no conjunto de teste: {:.2f}'.format(logreg.score(X_test, y_test)))"
      ],
      "execution_count": 23,
      "outputs": [
        {
          "output_type": "stream",
          "text": [
            "Acurácia da regressão logística no conjunto de teste: 0.82\n"
          ],
          "name": "stdout"
        }
      ]
    },
    {
      "cell_type": "markdown",
      "metadata": {
        "id": "c9qCDayvEufN",
        "colab_type": "text"
      },
      "source": [
        "### Curva ROC "
      ]
    },
    {
      "cell_type": "code",
      "metadata": {
        "id": "0Vh6ohNdvr5u",
        "colab_type": "code",
        "outputId": "96b370b9-25d6-4808-b62a-6d2930de3f2e",
        "colab": {
          "base_uri": "https://localhost:8080/",
          "height": 295
        }
      },
      "source": [
        "logit_roc_auc = roc_auc_score(y_test, logreg.predict(X_test))\n",
        "fpr, tpr, thresholds = roc_curve(y_test, logreg.predict_proba(X_test)[:,1])\n",
        "plt.figure()\n",
        "plt.plot(fpr, tpr, label='Regressão logística (área = %0.2f)' % logit_roc_auc)\n",
        "plt.plot([0, 1], [0, 1],'r--')\n",
        "plt.xlim([0.0, 1.0])\n",
        "plt.ylim([0.0, 1.05])\n",
        "plt.xlabel('Taxa de falso positivo (FPR)')\n",
        "plt.ylabel('Taxa de positivo (TPR)')\n",
        "plt.title('Curva ROC do modelo')\n",
        "plt.legend(loc=\"lower right\")\n",
        "plt.show()"
      ],
      "execution_count": 24,
      "outputs": [
        {
          "output_type": "display_data",
          "data": {
            "image/png": "[encoded data removed]",
            "text/plain": [
              "<Figure size 432x288 with 1 Axes>"
            ]
          },
          "metadata": {
            "tags": []
          }
        }
      ]
    },
    {
      "cell_type": "markdown",
      "metadata": {
        "id": "w3zqAS4WE1I6",
        "colab_type": "text"
      },
      "source": [
        "### Matriz de confusão"
      ]
    },
    {
      "cell_type": "code",
      "metadata": {
        "id": "I1kHDF_xwZg9",
        "colab_type": "code",
        "outputId": "5ddfb21d-0bbb-413c-b161-9119c79f2a4b",
        "colab": {
          "base_uri": "https://localhost:8080/",
          "height": 295
        }
      },
      "source": [
        "y_pred = (y_pred > 0.5)\n",
        "cm = confusion_matrix(y_test, y_pred)\n",
        "ax= plt.subplot()\n",
        "sns.heatmap(cm, annot=True, ax = ax,fmt='g')\n",
        "\n",
        "ax.set_xlabel('Previsto');ax.set_ylabel('Real'); \n",
        "ax.set_title('Matriz de Confusão - Regressão logística'); \n",
        "ax.xaxis.set_ticklabels(['Ficou', \"Saiu\"]); ax.yaxis.set_ticklabels(['Ficou',\"Saiu\"])\n",
        "plt.show()"
      ],
      "execution_count": 25,
      "outputs": [
        {
          "output_type": "display_data",
          "data": {
            "image/png": "[encoded data removed]",
            "text/plain": [
              "<Figure size 432x288 with 2 Axes>"
            ]
          },
          "metadata": {
            "tags": []
          }
        }
      ]
    },
    {
      "cell_type": "markdown",
      "metadata": {
        "id": "_gdBFDTjE_VP",
        "colab_type": "text"
      },
      "source": [
        "### Odds Ratio"
      ]
    },
    {
      "cell_type": "code",
      "metadata": {
        "id": "X94VaRkbxw3v",
        "colab_type": "code",
        "outputId": "ede903a6-b0b4-45c6-b971-e381f7cff89c",
        "colab": {
          "base_uri": "https://localhost:8080/",
          "height": 50
        }
      },
      "source": [
        "print( np.exp(result.params))"
      ],
      "execution_count": 26,
      "outputs": [
        {
          "output_type": "stream",
          "text": [
            "[0.99643405 1.06036632 0.96074067 0.69926488 0.82266483 0.34238197\n",
            " 2.34694413 0.54047279]\n"
          ],
          "name": "stdout"
        }
      ]
    },
    {
      "cell_type": "code",
      "metadata": {
        "id": "csS5yxhua9uR",
        "colab_type": "code",
        "outputId": "a5026bff-8244-43dd-9cbc-0a40bb50b8a2",
        "colab": {
          "base_uri": "https://localhost:8080/",
          "height": 50
        }
      },
      "source": [
        "dataset.columns[[0,1,2,4,5,6,8,10]].values"
      ],
      "execution_count": 27,
      "outputs": [
        {
          "output_type": "execute_result",
          "data": {
            "text/plain": [
              "array(['CreditScore', 'Age', 'Tenure', 'NumOfProducts', 'HasCrCard',\n",
              "       'IsActiveMember', 'Geography_Germany', 'Gender_Male'], dtype=object)"
            ]
          },
          "metadata": {
            "tags": []
          },
          "execution_count": 27
        }
      ]
    },
    {
      "cell_type": "code",
      "metadata": {
        "id": "TmQ8J52Fge72",
        "colab_type": "code",
        "colab": {}
      },
      "source": [
        "data = {'Variáveis':dataset.columns[[0,1,2,4,5,6,8,10]].values, 'Odds Ratio':np.exp(result.params)} \n",
        "df = pd.DataFrame(data)"
      ],
      "execution_count": 0,
      "outputs": []
    },
    {
      "cell_type": "code",
      "metadata": {
        "id": "b2Vx1GRWbPXM",
        "colab_type": "code",
        "outputId": "dc127034-c681-44ae-c5eb-3c5defdbcf6a",
        "colab": {
          "base_uri": "https://localhost:8080/",
          "height": 291
        }
      },
      "source": [
        "sns.set(style=\"whitegrid\")\n",
        "ax = sns.barplot(data = df,y=\"Variáveis\", x=\"Odds Ratio\",palette=\"Reds_d\")\n",
        "plt.axvline(1)\n",
        "plt.show()"
      ],
      "execution_count": 29,
      "outputs": [
        {
          "output_type": "display_data",
          "data": {
            "image/png": "[encoded data removed]",
            "text/plain": [
              "<Figure size 432x288 with 1 Axes>"
            ]
          },
          "metadata": {
            "tags": []
          }
        }
      ]
    },
    {
      "cell_type": "markdown",
      "metadata": {
        "id": "2YtA8DT-FKu-",
        "colab_type": "text"
      },
      "source": [
        "### Observações"
      ]
    },
    {
      "cell_type": "markdown",
      "metadata": {
        "id": "p-oB55skFNHq",
        "colab_type": "text"
      },
      "source": [
        "1. Como observado graficamente ser usuário da Alemanha aumenta bastante a chance de permanecer no banco\n",
        "2. Membro ativo, mulher, número de produtos e possuir cartão de crédito são nessa ordem as variáveis que interferem mais na saída do banco\n",
        "3. Ao contrário das observações gráficas é possível quantificar as variáveis importantes"
      ]
    },
    {
      "cell_type": "markdown",
      "metadata": {
        "id": "LU6LK1csp_95",
        "colab_type": "text"
      },
      "source": [
        "# Abordagem 3: redes neurais"
      ]
    },
    {
      "cell_type": "markdown",
      "metadata": {
        "id": "VZreRlD-Y5k4",
        "colab_type": "text"
      },
      "source": [
        "## ANN - Teste1"
      ]
    },
    {
      "cell_type": "markdown",
      "metadata": {
        "id": "9ilunpAomY3A",
        "colab_type": "text"
      },
      "source": [
        "Separando dados de treinamento e teste:"
      ]
    },
    {
      "cell_type": "code",
      "metadata": {
        "id": "sqAGASYZb8RH",
        "colab_type": "code",
        "colab": {}
      },
      "source": [
        "X = dataset.iloc[:,:-1].values\n",
        "y = dataset.iloc[:,-1].values\n",
        "X_train,X_test,y_train,y_test = train_test_split(X,y, test_size = 0.2 ,random_state = 0)"
      ],
      "execution_count": 0,
      "outputs": []
    },
    {
      "cell_type": "markdown",
      "metadata": {
        "id": "h64x-z9Cmbke",
        "colab_type": "text"
      },
      "source": [
        "Usando o StandardScaler:"
      ]
    },
    {
      "cell_type": "code",
      "metadata": {
        "id": "UK1Hx0rccGJ8",
        "colab_type": "code",
        "colab": {}
      },
      "source": [
        "sc = StandardScaler()\n",
        "X_train = sc.fit_transform(X_train)\n",
        "X_test = sc.transform(X_test)"
      ],
      "execution_count": 0,
      "outputs": []
    },
    {
      "cell_type": "markdown",
      "metadata": {
        "id": "Twyuc1B_V_FV",
        "colab_type": "text"
      },
      "source": [
        "Criando uma rede neural composta por duas camadas intermediárias com seis neurônios em cada camada intermediária e duas camadas dropout intermediárias para evitar overfitting:"
      ]
    },
    {
      "cell_type": "code",
      "metadata": {
        "id": "s8Zor5jaZADa",
        "colab_type": "code",
        "colab": {}
      },
      "source": [
        "classifier1 = Sequential()\n",
        "\n",
        "classifier1.add(Dense(units = 10, kernel_initializer = 'uniform', activation = 'relu', input_dim = 11))\n",
        "classifier1.add(Dropout(0.1))\n",
        "classifier1.add(Dense(units = 10, kernel_initializer = 'uniform', activation = 'relu'))\n",
        "classifier1.add(Dropout(0.1))\n",
        "classifier1.add(Dense(units = 1, kernel_initializer = 'uniform', activation = 'sigmoid'))\n",
        "classifier1.compile(Adam(lr=0.001), loss = 'binary_crossentropy', metrics = ['accuracy'])"
      ],
      "execution_count": 0,
      "outputs": []
    },
    {
      "cell_type": "markdown",
      "metadata": {
        "id": "e3amx2p5W2On",
        "colab_type": "text"
      },
      "source": [
        "Visualizando as informações da rede criada:"
      ]
    },
    {
      "cell_type": "code",
      "metadata": {
        "id": "mr8i24ytWHvj",
        "colab_type": "code",
        "outputId": "0fe70873-d4b2-4217-c87c-4a855f78f13a",
        "colab": {
          "base_uri": "https://localhost:8080/",
          "height": 302
        }
      },
      "source": [
        "classifier1.summary()"
      ],
      "execution_count": 33,
      "outputs": [
        {
          "output_type": "stream",
          "text": [
            "_________________________________________________________________\n",
            "Layer (type)                 Output Shape              Param #   \n",
            "=================================================================\n",
            "dense_1 (Dense)              (None, 10)                120       \n",
            "_________________________________________________________________\n",
            "dropout_1 (Dropout)          (None, 10)                0         \n",
            "_________________________________________________________________\n",
            "dense_2 (Dense)              (None, 10)                110       \n",
            "_________________________________________________________________\n",
            "dropout_2 (Dropout)          (None, 10)                0         \n",
            "_________________________________________________________________\n",
            "dense_3 (Dense)              (None, 1)                 11        \n",
            "=================================================================\n",
            "Total params: 241\n",
            "Trainable params: 241\n",
            "Non-trainable params: 0\n",
            "_________________________________________________________________\n"
          ],
          "name": "stdout"
        }
      ]
    },
    {
      "cell_type": "markdown",
      "metadata": {
        "id": "EfB-3-IUW9Zo",
        "colab_type": "text"
      },
      "source": [
        "Treinando o modelo:"
      ]
    },
    {
      "cell_type": "code",
      "metadata": {
        "colab_type": "code",
        "outputId": "935540b5-3b41-4129-c4ba-b461d0185fa0",
        "id": "OEcvRWzQfFIC",
        "colab": {
          "base_uri": "https://localhost:8080/",
          "height": 1112
        }
      },
      "source": [
        "history1 = classifier1.fit(X_train, y_train, batch_size = 10, epochs = 30,validation_data=(X_test,y_test))"
      ],
      "execution_count": 34,
      "outputs": [
        {
          "output_type": "stream",
          "text": [
            "WARNING:tensorflow:From /usr/local/lib/python3.6/dist-packages/tensorflow/python/ops/math_ops.py:3066: to_int32 (from tensorflow.python.ops.math_ops) is deprecated and will be removed in a future version.\n",
            "Instructions for updating:\n",
            "Use tf.cast instead.\n",
            "Train on 8000 samples, validate on 2000 samples\n",
            "Epoch 1/30\n",
            "8000/8000 [==============================] - 6s 748us/step - loss: 0.4748 - acc: 0.7955 - val_loss: 0.4239 - val_acc: 0.7975\n",
            "Epoch 2/30\n",
            "8000/8000 [==============================] - 3s 375us/step - loss: 0.4267 - acc: 0.7960 - val_loss: 0.4213 - val_acc: 0.7975\n",
            "Epoch 3/30\n",
            "8000/8000 [==============================] - 3s 379us/step - loss: 0.4243 - acc: 0.8030 - val_loss: 0.4172 - val_acc: 0.8275\n",
            "Epoch 4/30\n",
            "8000/8000 [==============================] - 3s 392us/step - loss: 0.4230 - acc: 0.8222 - val_loss: 0.4156 - val_acc: 0.8345\n",
            "Epoch 5/30\n",
            "8000/8000 [==============================] - 3s 374us/step - loss: 0.4223 - acc: 0.8247 - val_loss: 0.4150 - val_acc: 0.8375\n",
            "Epoch 6/30\n",
            "8000/8000 [==============================] - 3s 373us/step - loss: 0.4210 - acc: 0.8266 - val_loss: 0.4112 - val_acc: 0.8385\n",
            "Epoch 7/30\n",
            "8000/8000 [==============================] - 3s 373us/step - loss: 0.4164 - acc: 0.8270 - val_loss: 0.4072 - val_acc: 0.8390\n",
            "Epoch 8/30\n",
            "8000/8000 [==============================] - 3s 370us/step - loss: 0.4156 - acc: 0.8261 - val_loss: 0.4003 - val_acc: 0.8410\n",
            "Epoch 9/30\n",
            "8000/8000 [==============================] - 3s 377us/step - loss: 0.4089 - acc: 0.8316 - val_loss: 0.3948 - val_acc: 0.8430\n",
            "Epoch 10/30\n",
            "8000/8000 [==============================] - 3s 372us/step - loss: 0.4057 - acc: 0.8286 - val_loss: 0.3897 - val_acc: 0.8425\n",
            "Epoch 11/30\n",
            "8000/8000 [==============================] - 3s 373us/step - loss: 0.4008 - acc: 0.8310 - val_loss: 0.3848 - val_acc: 0.8475\n",
            "Epoch 12/30\n",
            "8000/8000 [==============================] - 3s 375us/step - loss: 0.3996 - acc: 0.8356 - val_loss: 0.3771 - val_acc: 0.8490\n",
            "Epoch 13/30\n",
            "8000/8000 [==============================] - 3s 381us/step - loss: 0.3961 - acc: 0.8389 - val_loss: 0.3749 - val_acc: 0.8500\n",
            "Epoch 14/30\n",
            "8000/8000 [==============================] - 3s 374us/step - loss: 0.3919 - acc: 0.8409 - val_loss: 0.3798 - val_acc: 0.8455\n",
            "Epoch 15/30\n",
            "8000/8000 [==============================] - 3s 372us/step - loss: 0.3926 - acc: 0.8367 - val_loss: 0.3727 - val_acc: 0.8485\n",
            "Epoch 16/30\n",
            "8000/8000 [==============================] - 3s 379us/step - loss: 0.3986 - acc: 0.8359 - val_loss: 0.3732 - val_acc: 0.8475\n",
            "Epoch 17/30\n",
            "8000/8000 [==============================] - 3s 416us/step - loss: 0.3940 - acc: 0.8400 - val_loss: 0.3726 - val_acc: 0.8455\n",
            "Epoch 18/30\n",
            "8000/8000 [==============================] - 3s 420us/step - loss: 0.3937 - acc: 0.8387 - val_loss: 0.3702 - val_acc: 0.8500\n",
            "Epoch 19/30\n",
            "8000/8000 [==============================] - 3s 423us/step - loss: 0.3927 - acc: 0.8384 - val_loss: 0.3678 - val_acc: 0.8490\n",
            "Epoch 20/30\n",
            "8000/8000 [==============================] - 3s 383us/step - loss: 0.3915 - acc: 0.8395 - val_loss: 0.3806 - val_acc: 0.8435\n",
            "Epoch 21/30\n",
            "8000/8000 [==============================] - 3s 374us/step - loss: 0.3923 - acc: 0.8425 - val_loss: 0.3676 - val_acc: 0.8440\n",
            "Epoch 22/30\n",
            "8000/8000 [==============================] - 3s 377us/step - loss: 0.3897 - acc: 0.8435 - val_loss: 0.3682 - val_acc: 0.8520\n",
            "Epoch 23/30\n",
            "8000/8000 [==============================] - 3s 375us/step - loss: 0.3940 - acc: 0.8376 - val_loss: 0.3661 - val_acc: 0.8475\n",
            "Epoch 24/30\n",
            "8000/8000 [==============================] - 3s 373us/step - loss: 0.3915 - acc: 0.8417 - val_loss: 0.3676 - val_acc: 0.8480\n",
            "Epoch 25/30\n",
            "8000/8000 [==============================] - 3s 373us/step - loss: 0.3917 - acc: 0.8406 - val_loss: 0.3666 - val_acc: 0.8510\n",
            "Epoch 26/30\n",
            "8000/8000 [==============================] - 3s 377us/step - loss: 0.3882 - acc: 0.8420 - val_loss: 0.3709 - val_acc: 0.8460\n",
            "Epoch 27/30\n",
            "8000/8000 [==============================] - 3s 372us/step - loss: 0.3937 - acc: 0.8411 - val_loss: 0.3655 - val_acc: 0.8510\n",
            "Epoch 28/30\n",
            "8000/8000 [==============================] - 3s 371us/step - loss: 0.3925 - acc: 0.8382 - val_loss: 0.3662 - val_acc: 0.8510\n",
            "Epoch 29/30\n",
            "8000/8000 [==============================] - 3s 375us/step - loss: 0.3888 - acc: 0.8422 - val_loss: 0.3656 - val_acc: 0.8520\n",
            "Epoch 30/30\n",
            "8000/8000 [==============================] - 3s 374us/step - loss: 0.3870 - acc: 0.8412 - val_loss: 0.3691 - val_acc: 0.8475\n"
          ],
          "name": "stdout"
        }
      ]
    },
    {
      "cell_type": "markdown",
      "metadata": {
        "id": "BJjxYtCb9U4A",
        "colab_type": "text"
      },
      "source": [
        "### Análise Teste 1"
      ]
    },
    {
      "cell_type": "markdown",
      "metadata": {
        "id": "TZpkskyNY3_I",
        "colab_type": "text"
      },
      "source": [
        "Erro e acurácia nos conjunto de treinamento e validação:"
      ]
    },
    {
      "cell_type": "code",
      "metadata": {
        "id": "fq5kCx57YBrI",
        "colab_type": "code",
        "outputId": "79a5f808-564e-4267-d574-f2fd4199339c",
        "colab": {
          "base_uri": "https://localhost:8080/",
          "height": 302
        }
      },
      "source": [
        "plt.plot(history1.history['loss'], label='train loss')\n",
        "plt.plot(history1.history['val_loss'], label='val loss')\n",
        "plt.legend()\n",
        "plt.title(\"Erro nos conjuntos de treinamento e validação\")\n",
        "plt.xlabel(\"Épocas\")\n",
        "plt.ylabel(\"Erro\")\n",
        "plt.show()"
      ],
      "execution_count": 35,
      "outputs": [
        {
          "output_type": "display_data",
          "data": {
            "image/png": "[encoded data removed]",
            "text/plain": [
              "<Figure size 432x288 with 1 Axes>"
            ]
          },
          "metadata": {
            "tags": []
          }
        }
      ]
    },
    {
      "cell_type": "code",
      "metadata": {
        "id": "6RxrzEgAYaqe",
        "colab_type": "code",
        "outputId": "5573dbc3-ff6e-4039-fee9-3a594b48369b",
        "colab": {
          "base_uri": "https://localhost:8080/",
          "height": 302
        }
      },
      "source": [
        "plt.plot(history1.history['acc'], label='train acc')\n",
        "plt.plot(history1.history['val_acc'], label='val acc')\n",
        "plt.legend()\n",
        "plt.title(\"Acurácia nos conjuntos de treinamento e validação\")\n",
        "plt.xlabel(\"Épocas\")\n",
        "plt.ylabel(\"Acurácia\")\n",
        "plt.show()"
      ],
      "execution_count": 36,
      "outputs": [
        {
          "output_type": "display_data",
          "data": {
            "image/png": "[encoded data removed]",
            "text/plain": [
              "<Figure size 432x288 with 1 Axes>"
            ]
          },
          "metadata": {
            "tags": []
          }
        }
      ]
    },
    {
      "cell_type": "markdown",
      "metadata": {
        "id": "XjDqtINPeFFm",
        "colab_type": "text"
      },
      "source": [
        "### Curva Roc do modelo:"
      ]
    },
    {
      "cell_type": "code",
      "metadata": {
        "id": "p463is009bVd",
        "colab_type": "code",
        "colab": {}
      },
      "source": [
        "y_pred = classifier1.predict(X_test)"
      ],
      "execution_count": 0,
      "outputs": []
    },
    {
      "cell_type": "code",
      "metadata": {
        "id": "DBxKT5HDd8ok",
        "colab_type": "code",
        "outputId": "c4e45561-4f29-497b-de28-6d3ca0f80289",
        "colab": {
          "base_uri": "https://localhost:8080/",
          "height": 301
        }
      },
      "source": [
        "fpr, tpr, _ = metrics.roc_curve(y_test,  y_pred)\n",
        "auc = metrics.roc_auc_score(y_test, y_pred)\n",
        "plt.plot(fpr,tpr,label=\" acurácia=\"+str(auc)[:4])\n",
        "plt.legend(loc=4)\n",
        "plt.plot([0, 1], [0, 1], linestyle='--')\n",
        "plt.xlabel(\"Taxa de falso positivo (FPR)\")\n",
        "plt.ylabel(\"Taxa de positivo (TPR)\")\n",
        "plt.title(\"Curva ROC do modelo\")\n",
        "plt.show()"
      ],
      "execution_count": 38,
      "outputs": [
        {
          "output_type": "display_data",
          "data": {
            "image/png": "[encoded data removed]",
            "text/plain": [
              "<Figure size 432x288 with 1 Axes>"
            ]
          },
          "metadata": {
            "tags": []
          }
        }
      ]
    },
    {
      "cell_type": "markdown",
      "metadata": {
        "id": "sxXdyUo6eLxv",
        "colab_type": "text"
      },
      "source": [
        "### Matriz de Confusão"
      ]
    },
    {
      "cell_type": "code",
      "metadata": {
        "id": "euAw7MW39cxg",
        "colab_type": "code",
        "colab": {}
      },
      "source": [
        "y_pred = (y_pred > 0.5)"
      ],
      "execution_count": 0,
      "outputs": []
    },
    {
      "cell_type": "code",
      "metadata": {
        "id": "vwnV8RCO9fzJ",
        "colab_type": "code",
        "colab": {}
      },
      "source": [
        "cm = confusion_matrix(y_test, y_pred)"
      ],
      "execution_count": 0,
      "outputs": []
    },
    {
      "cell_type": "code",
      "metadata": {
        "id": "fWx88UX2-mkf",
        "colab_type": "code",
        "outputId": "ba2f72fb-0043-42bb-e151-6236b53a807d",
        "colab": {
          "base_uri": "https://localhost:8080/",
          "height": 301
        }
      },
      "source": [
        "ax= plt.subplot()\n",
        "sns.heatmap(cm, annot=True, ax = ax,fmt='g')\n",
        "\n",
        "ax.set_xlabel('Previsto');ax.set_ylabel('Real'); \n",
        "ax.set_title('Matriz de Confusão - ANN1'); \n",
        "ax.xaxis.set_ticklabels(['Ficou', \"Saiu\"]); ax.yaxis.set_ticklabels(['Ficou',\"Saiu\"])\n",
        "plt.show()"
      ],
      "execution_count": 41,
      "outputs": [
        {
          "output_type": "display_data",
          "data": {
            "image/png": "[encoded data removed]",
            "text/plain": [
              "<Figure size 432x288 with 2 Axes>"
            ]
          },
          "metadata": {
            "tags": []
          }
        }
      ]
    },
    {
      "cell_type": "markdown",
      "metadata": {
        "id": "DEPD-iVdO5RD",
        "colab_type": "text"
      },
      "source": [
        "## ANN - Teste2"
      ]
    },
    {
      "cell_type": "markdown",
      "metadata": {
        "id": "zqyiC_pefjn7",
        "colab_type": "text"
      },
      "source": [
        "Craiando um modelo com uma única camada com dez neurônios:"
      ]
    },
    {
      "cell_type": "code",
      "metadata": {
        "id": "MgzHgZd6gLvX",
        "colab_type": "code",
        "colab": {}
      },
      "source": [
        "classifier2 = Sequential()\n",
        "classifier2.add(Dense(units = 10, kernel_initializer = 'uniform', activation = 'relu', input_dim = 11))\n",
        "classifier2.add(Dense(units = 1, kernel_initializer = 'uniform', activation = 'sigmoid'))\n",
        "classifier2.compile(RMSprop(lr=0.001), loss = 'binary_crossentropy', metrics = ['accuracy'])"
      ],
      "execution_count": 0,
      "outputs": []
    },
    {
      "cell_type": "markdown",
      "metadata": {
        "id": "LlpmK78e_XrV",
        "colab_type": "text"
      },
      "source": [
        "Informações da rede:"
      ]
    },
    {
      "cell_type": "code",
      "metadata": {
        "id": "3dV9Z0xPgPlW",
        "colab_type": "code",
        "outputId": "31d10e41-59cc-41c9-ff89-53e0055113a9",
        "colab": {
          "base_uri": "https://localhost:8080/",
          "height": 218
        }
      },
      "source": [
        "print(classifier2.summary())"
      ],
      "execution_count": 43,
      "outputs": [
        {
          "output_type": "stream",
          "text": [
            "_________________________________________________________________\n",
            "Layer (type)                 Output Shape              Param #   \n",
            "=================================================================\n",
            "dense_4 (Dense)              (None, 10)                120       \n",
            "_________________________________________________________________\n",
            "dense_5 (Dense)              (None, 1)                 11        \n",
            "=================================================================\n",
            "Total params: 131\n",
            "Trainable params: 131\n",
            "Non-trainable params: 0\n",
            "_________________________________________________________________\n",
            "None\n"
          ],
          "name": "stdout"
        }
      ]
    },
    {
      "cell_type": "code",
      "metadata": {
        "id": "Q7S9e2a9gSxF",
        "colab_type": "code",
        "outputId": "ca8bd904-0fc3-4829-e9b3-96fa94719a10",
        "colab": {
          "base_uri": "https://localhost:8080/",
          "height": 1042
        }
      },
      "source": [
        "history2 = classifier2.fit(X_train, y_train, batch_size = 10, epochs = 30,validation_data=(X_test,y_test))"
      ],
      "execution_count": 44,
      "outputs": [
        {
          "output_type": "stream",
          "text": [
            "Train on 8000 samples, validate on 2000 samples\n",
            "Epoch 1/30\n",
            "8000/8000 [==============================] - 2s 297us/step - loss: 0.4929 - acc: 0.7955 - val_loss: 0.4241 - val_acc: 0.7975\n",
            "Epoch 2/30\n",
            "8000/8000 [==============================] - 2s 283us/step - loss: 0.4208 - acc: 0.8107 - val_loss: 0.4119 - val_acc: 0.8310\n",
            "Epoch 3/30\n",
            "8000/8000 [==============================] - 2s 282us/step - loss: 0.4083 - acc: 0.8269 - val_loss: 0.3984 - val_acc: 0.8375\n",
            "Epoch 4/30\n",
            "8000/8000 [==============================] - 2s 282us/step - loss: 0.3995 - acc: 0.8279 - val_loss: 0.3927 - val_acc: 0.8375\n",
            "Epoch 5/30\n",
            "8000/8000 [==============================] - 2s 283us/step - loss: 0.3927 - acc: 0.8310 - val_loss: 0.3854 - val_acc: 0.8365\n",
            "Epoch 6/30\n",
            "8000/8000 [==============================] - 2s 285us/step - loss: 0.3881 - acc: 0.8310 - val_loss: 0.3798 - val_acc: 0.8380\n",
            "Epoch 7/30\n",
            "8000/8000 [==============================] - 2s 284us/step - loss: 0.3839 - acc: 0.8325 - val_loss: 0.3761 - val_acc: 0.8330\n",
            "Epoch 8/30\n",
            "8000/8000 [==============================] - 2s 279us/step - loss: 0.3807 - acc: 0.8344 - val_loss: 0.3708 - val_acc: 0.8430\n",
            "Epoch 9/30\n",
            "8000/8000 [==============================] - 2s 282us/step - loss: 0.3782 - acc: 0.8385 - val_loss: 0.3695 - val_acc: 0.8470\n",
            "Epoch 10/30\n",
            "8000/8000 [==============================] - 2s 282us/step - loss: 0.3758 - acc: 0.8407 - val_loss: 0.3657 - val_acc: 0.8485\n",
            "Epoch 11/30\n",
            "8000/8000 [==============================] - 2s 308us/step - loss: 0.3730 - acc: 0.8429 - val_loss: 0.3654 - val_acc: 0.8520\n",
            "Epoch 12/30\n",
            "8000/8000 [==============================] - 3s 335us/step - loss: 0.3716 - acc: 0.8435 - val_loss: 0.3628 - val_acc: 0.8530\n",
            "Epoch 13/30\n",
            "8000/8000 [==============================] - 3s 330us/step - loss: 0.3696 - acc: 0.8450 - val_loss: 0.3614 - val_acc: 0.8500\n",
            "Epoch 14/30\n",
            "8000/8000 [==============================] - 3s 320us/step - loss: 0.3686 - acc: 0.8477 - val_loss: 0.3594 - val_acc: 0.8500\n",
            "Epoch 15/30\n",
            "8000/8000 [==============================] - 2s 289us/step - loss: 0.3670 - acc: 0.8451 - val_loss: 0.3566 - val_acc: 0.8545\n",
            "Epoch 16/30\n",
            "8000/8000 [==============================] - 2s 285us/step - loss: 0.3658 - acc: 0.8480 - val_loss: 0.3581 - val_acc: 0.8555\n",
            "Epoch 17/30\n",
            "8000/8000 [==============================] - 2s 283us/step - loss: 0.3648 - acc: 0.8491 - val_loss: 0.3543 - val_acc: 0.8510\n",
            "Epoch 18/30\n",
            "8000/8000 [==============================] - 2s 284us/step - loss: 0.3627 - acc: 0.8495 - val_loss: 0.3585 - val_acc: 0.8510\n",
            "Epoch 19/30\n",
            "8000/8000 [==============================] - 2s 282us/step - loss: 0.3623 - acc: 0.8519 - val_loss: 0.3544 - val_acc: 0.8535\n",
            "Epoch 20/30\n",
            "8000/8000 [==============================] - 2s 285us/step - loss: 0.3615 - acc: 0.8496 - val_loss: 0.3560 - val_acc: 0.8515\n",
            "Epoch 21/30\n",
            "8000/8000 [==============================] - 2s 282us/step - loss: 0.3605 - acc: 0.8525 - val_loss: 0.3520 - val_acc: 0.8550\n",
            "Epoch 22/30\n",
            "8000/8000 [==============================] - 2s 282us/step - loss: 0.3600 - acc: 0.8516 - val_loss: 0.3525 - val_acc: 0.8520\n",
            "Epoch 23/30\n",
            "8000/8000 [==============================] - 2s 284us/step - loss: 0.3591 - acc: 0.8537 - val_loss: 0.3547 - val_acc: 0.8560\n",
            "Epoch 24/30\n",
            "8000/8000 [==============================] - 2s 283us/step - loss: 0.3579 - acc: 0.8556 - val_loss: 0.3508 - val_acc: 0.8585\n",
            "Epoch 25/30\n",
            "8000/8000 [==============================] - 2s 285us/step - loss: 0.3582 - acc: 0.8546 - val_loss: 0.3497 - val_acc: 0.8570\n",
            "Epoch 26/30\n",
            "8000/8000 [==============================] - 2s 282us/step - loss: 0.3572 - acc: 0.8535 - val_loss: 0.3510 - val_acc: 0.8590\n",
            "Epoch 27/30\n",
            "8000/8000 [==============================] - 2s 285us/step - loss: 0.3572 - acc: 0.8579 - val_loss: 0.3492 - val_acc: 0.8600\n",
            "Epoch 28/30\n",
            "8000/8000 [==============================] - 2s 283us/step - loss: 0.3567 - acc: 0.8542 - val_loss: 0.3497 - val_acc: 0.8565\n",
            "Epoch 29/30\n",
            "8000/8000 [==============================] - 2s 284us/step - loss: 0.3558 - acc: 0.8560 - val_loss: 0.3501 - val_acc: 0.8550\n",
            "Epoch 30/30\n",
            "8000/8000 [==============================] - 2s 282us/step - loss: 0.3557 - acc: 0.8546 - val_loss: 0.3502 - val_acc: 0.8555\n"
          ],
          "name": "stdout"
        }
      ]
    },
    {
      "cell_type": "markdown",
      "metadata": {
        "id": "6RcfVAZJ_2wb",
        "colab_type": "text"
      },
      "source": [
        "### Análise Teste 2"
      ]
    },
    {
      "cell_type": "code",
      "metadata": {
        "id": "Or3whDKxtMUK",
        "colab_type": "code",
        "outputId": "8d26c8b1-eefb-4c6b-c579-c522858cdb54",
        "colab": {
          "base_uri": "https://localhost:8080/",
          "height": 302
        }
      },
      "source": [
        "plt.plot(history2.history['loss'], label='train loss')\n",
        "plt.plot(history2.history['val_loss'], label='val loss')\n",
        "plt.legend()\n",
        "plt.title(\"Erro nos conjuntos de treinamento e validação\")\n",
        "plt.xlabel(\"Épocas\")\n",
        "plt.ylabel(\"Erro\")\n",
        "plt.show()"
      ],
      "execution_count": 46,
      "outputs": [
        {
          "output_type": "display_data",
          "data": {
            "image/png": "[encoded data removed]",
            "text/plain": [
              "<Figure size 432x288 with 1 Axes>"
            ]
          },
          "metadata": {
            "tags": []
          }
        }
      ]
    },
    {
      "cell_type": "code",
      "metadata": {
        "id": "CJQ0cDIdtXZi",
        "colab_type": "code",
        "outputId": "6bb31d49-8b25-42f7-b059-23fb66108398",
        "colab": {
          "base_uri": "https://localhost:8080/",
          "height": 302
        }
      },
      "source": [
        "plt.plot(history2.history['acc'], label='train acc')\n",
        "plt.plot(history2.history['val_acc'], label='val acc')\n",
        "plt.legend()\n",
        "plt.title(\"Acurácia nos conjuntos de treinamento e validação\")\n",
        "plt.xlabel(\"Épocas\")\n",
        "plt.ylabel(\"Acurácia\")\n",
        "plt.show()"
      ],
      "execution_count": 47,
      "outputs": [
        {
          "output_type": "display_data",
          "data": {
            "image/png": "[encoded data removed]",
            "text/plain": [
              "<Figure size 432x288 with 1 Axes>"
            ]
          },
          "metadata": {
            "tags": []
          }
        }
      ]
    },
    {
      "cell_type": "markdown",
      "metadata": {
        "id": "9eWrGi75_6m1",
        "colab_type": "text"
      },
      "source": [
        "### Curva roc do modelo:"
      ]
    },
    {
      "cell_type": "code",
      "metadata": {
        "id": "1AoNjD97nfZE",
        "colab_type": "code",
        "colab": {}
      },
      "source": [
        "y_pred = classifier2.predict(X_test)"
      ],
      "execution_count": 0,
      "outputs": []
    },
    {
      "cell_type": "code",
      "metadata": {
        "id": "6EjcxXD8n28o",
        "colab_type": "code",
        "outputId": "f6d19346-8a1b-499e-f577-6e58d18eaeb9",
        "colab": {
          "base_uri": "https://localhost:8080/",
          "height": 301
        }
      },
      "source": [
        "fpr, tpr, _ = metrics.roc_curve(y_test,  y_pred)\n",
        "auc = metrics.roc_auc_score(y_test, y_pred)\n",
        "plt.plot(fpr,tpr,label=\" acurácia=\"+str(auc)[:4])\n",
        "plt.legend(loc=4)\n",
        "plt.plot([0, 1], [0, 1], linestyle='--')\n",
        "plt.xlabel(\"Taxa de falso positivo(FPR)\")\n",
        "plt.ylabel(\"Taxa de positivo (TPR)\")\n",
        "plt.title(\"Curva ROC do modelo\")\n",
        "plt.show()"
      ],
      "execution_count": 49,
      "outputs": [
        {
          "output_type": "display_data",
          "data": {
            "image/png": "[encoded data removed]",
            "text/plain": [
              "<Figure size 432x288 with 1 Axes>"
            ]
          },
          "metadata": {
            "tags": []
          }
        }
      ]
    },
    {
      "cell_type": "markdown",
      "metadata": {
        "id": "AffBmSpuAIeg",
        "colab_type": "text"
      },
      "source": [
        "### Matriz de confusão"
      ]
    },
    {
      "cell_type": "code",
      "metadata": {
        "id": "9-jt9dojsBCG",
        "colab_type": "code",
        "outputId": "1d5ee6c6-56a0-4051-8eb0-7461e74c7d22",
        "colab": {
          "base_uri": "https://localhost:8080/",
          "height": 301
        }
      },
      "source": [
        "y_pred = (y_pred > 0.5)\n",
        "cm = confusion_matrix(y_test, y_pred)\n",
        "ax= plt.subplot()\n",
        "sns.heatmap(cm, annot=True, ax = ax,fmt='g')\n",
        "\n",
        "ax.set_xlabel('Previsto');ax.set_ylabel('Real'); \n",
        "ax.set_title('Matriz de Confusão - ANN2'); \n",
        "ax.xaxis.set_ticklabels(['Ficou', \"Saiu\"]); ax.yaxis.set_ticklabels(['Ficou',\"Saiu\"])\n",
        "plt.show()"
      ],
      "execution_count": 50,
      "outputs": [
        {
          "output_type": "display_data",
          "data": {
            "image/png": "[encoded data removed]",
            "text/plain": [
              "<Figure size 432x288 with 2 Axes>"
            ]
          },
          "metadata": {
            "tags": []
          }
        }
      ]
    },
    {
      "cell_type": "markdown",
      "metadata": {
        "id": "t-hgvwl2tj5j",
        "colab_type": "text"
      },
      "source": [
        "## Observações sobre os modelos:"
      ]
    },
    {
      "cell_type": "markdown",
      "metadata": {
        "id": "2m9KrVuAA-Gu",
        "colab_type": "text"
      },
      "source": [
        "\n",
        "\n",
        "1.  Mesmo com menos parâmetros que a ANN1, a ANN2 se mostrou com maior acurácia.\n",
        "2. Ambas as redes neurais apresentam desempenho melhor que a regressão logística, o que era esperado.\n"
      ]
    },
    {
      "cell_type": "markdown",
      "metadata": {
        "id": "eTHE-L5gwi_c",
        "colab_type": "text"
      },
      "source": [
        "# Conclusão"
      ]
    },
    {
      "cell_type": "markdown",
      "metadata": {
        "id": "uwogtvPIH-eo",
        "colab_type": "text"
      },
      "source": [
        "Para uma visualização geral do problema, a abordagem gráfica é eficiente.  Porém, se quisermos extrair propriedades das variáveis e ordenar por relevância a regressão logística é mais indicada. Já o modelo com maior acurácia é o utilizando redes neurais e deve ser utilizado para verificar a psosibilidade de um usuário deixar ou não o banco. "
      ]
    }
  ]
}