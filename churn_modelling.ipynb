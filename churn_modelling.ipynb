{
  "nbformat": 4,
  "nbformat_minor": 0,
  "metadata": {
    "colab": {
      "name": "churn_modelling.ipynb",
      "version": "0.3.2",
      "provenance": [],
      "collapsed_sections": [
        "xL4eSX4vD0E8",
        "01XUb2HVKc7j",
        "ZhpOpPCPKo8k",
        "WdXo2HFiK2ty",
        "mJBWUClCLIpI",
        "FTNfJ57jLUFe",
        "ZxzI3-ZNLjhf",
        "UnZ_A61SLxke",
        "JepQgMZeL9_E",
        "yTA86fJIMJhT",
        "izXCo5Rq2lwV",
        "VZreRlD-Y5k4",
        "DEPD-iVdO5RD",
        "t-hgvwl2tj5j"
      ],
      "include_colab_link": true
    },
    "kernelspec": {
      "name": "python3",
      "display_name": "Python 3"
    },
    "accelerator": "GPU"
  },
  "cells": [
    {
      "cell_type": "markdown",
      "metadata": {
        "id": "view-in-github",
        "colab_type": "text"
      },
      "source": [
        "<a href=\"https://colab.research.google.com/github/cunhamaicon/churn_modelling_deepaz/blob/master/churn_modelling.ipynb\" target=\"_parent\"><img src=\"https://colab.research.google.com/assets/colab-badge.svg\" alt=\"Open In Colab\"/></a>"
      ]
    },
    {
      "cell_type": "markdown",
      "metadata": {
        "id": "2BvZ0tcaaR6q",
        "colab_type": "text"
      },
      "source": [
        "#Churn Modelling"
      ]
    },
    {
      "cell_type": "markdown",
      "metadata": {
        "id": "XEAnfUJRPsXW",
        "colab_type": "text"
      },
      "source": [
        "---\n",
        "\n",
        "\n",
        "**Autor: Maicon Henrique Cunha**\n",
        "\n",
        "**email: maiconhenrique@hotmail.com**\n",
        "\n",
        "**Github: [https://github.com/cunhamaicon](https://github.com/cunhamaicon/)**\n",
        "\n",
        "\n",
        "---\n",
        "\n",
        "Nesse trabalho trataremos do problema de churn. Serão criadas duas redes neurais para modelar a saída ou não de pessoas de um banco. O objetivo é identificar por qual motivo um usuário está deixando o banco e prever quando um novo usuário que não fez parte do conjunto de treinamento está próximo de deixar o banco. Ao final serão feitas observações e análises sobre os modelos e será tomada a decisão de qual modelo utilizar.\n",
        "<br><br>\n",
        "\n",
        "O banco de dados ficitício utlizado para esse projeto originalmente encontra-se [aqui](https://www.superdatascience.com/pages/deep-learning).\n",
        "<br><br>\n",
        " Esse tipo de problema é muito comum em qualquer área e a abordagem utilizada aqui é geral.\n",
        "<br><br>\n",
        "\n",
        "Todo o código foi feito no Colab e pode ser executado on-line em [https://colab.research.google.com/](https://colab.research.google.com/).\n",
        "\n",
        "\n"
      ]
    },
    {
      "cell_type": "markdown",
      "metadata": {
        "id": "xL4eSX4vD0E8",
        "colab_type": "text"
      },
      "source": [
        "## Obtendo informações sobre o banco:"
      ]
    },
    {
      "cell_type": "markdown",
      "metadata": {
        "id": "01XUb2HVKc7j",
        "colab_type": "text"
      },
      "source": [
        "### Porcentagem de usuários que deixaram o banco por gênero"
      ]
    },
    {
      "cell_type": "markdown",
      "metadata": {
        "id": "zOJmC51sJUE9",
        "colab_type": "text"
      },
      "source": [
        "![alt text](https://github.com/cunhamaicon/churn_modelling_deepaz/blob/master/img/genero.jpg?raw=true)"
      ]
    },
    {
      "cell_type": "markdown",
      "metadata": {
        "id": "ZhpOpPCPKo8k",
        "colab_type": "text"
      },
      "source": [
        "###Porcentagem de usuários que deixaram o banco por país:"
      ]
    },
    {
      "cell_type": "markdown",
      "metadata": {
        "id": "JDfNkTvAKuif",
        "colab_type": "text"
      },
      "source": [
        "![alt text](https://github.com/cunhamaicon/churn_modelling_deepaz/blob/master/img/geografia.jpg?raw=true)"
      ]
    },
    {
      "cell_type": "markdown",
      "metadata": {
        "id": "WdXo2HFiK2ty",
        "colab_type": "text"
      },
      "source": [
        "### Usuários com cartão"
      ]
    },
    {
      "cell_type": "markdown",
      "metadata": {
        "id": "335DMk3pLCzd",
        "colab_type": "text"
      },
      "source": [
        "![alt text](https://github.com/cunhamaicon/churn_modelling_deepaz/blob/master/img/cartao.jpg?raw=true)"
      ]
    },
    {
      "cell_type": "markdown",
      "metadata": {
        "id": "mJBWUClCLIpI",
        "colab_type": "text"
      },
      "source": [
        "###Usuários ativos"
      ]
    },
    {
      "cell_type": "markdown",
      "metadata": {
        "id": "eTTDWt-iLNwY",
        "colab_type": "text"
      },
      "source": [
        "![alt text](https://github.com/cunhamaicon/churn_modelling_deepaz/blob/master/img/ativo.jpg?raw=true)"
      ]
    },
    {
      "cell_type": "markdown",
      "metadata": {
        "id": "FTNfJ57jLUFe",
        "colab_type": "text"
      },
      "source": [
        "###Número de produtos"
      ]
    },
    {
      "cell_type": "markdown",
      "metadata": {
        "id": "Sd7FTG3JLZLN",
        "colab_type": "text"
      },
      "source": [
        "![alt text](https://github.com/cunhamaicon/churn_modelling_deepaz/blob/master/img/num_produtos.jpg?raw=true)"
      ]
    },
    {
      "cell_type": "markdown",
      "metadata": {
        "id": "ZxzI3-ZNLjhf",
        "colab_type": "text"
      },
      "source": [
        "### Score"
      ]
    },
    {
      "cell_type": "markdown",
      "metadata": {
        "id": "R5DU_8bnLrzt",
        "colab_type": "text"
      },
      "source": [
        "![alt text](https://github.com/cunhamaicon/churn_modelling_deepaz/blob/master/img/score.jpg?raw=true)"
      ]
    },
    {
      "cell_type": "markdown",
      "metadata": {
        "id": "UnZ_A61SLxke",
        "colab_type": "text"
      },
      "source": [
        "###Idade"
      ]
    },
    {
      "cell_type": "markdown",
      "metadata": {
        "id": "pnngxBskL1yM",
        "colab_type": "text"
      },
      "source": [
        "![alt text](https://github.com/cunhamaicon/churn_modelling_deepaz/blob/master/img/idade.jpg?raw=true)"
      ]
    },
    {
      "cell_type": "markdown",
      "metadata": {
        "id": "JepQgMZeL9_E",
        "colab_type": "text"
      },
      "source": [
        "### Balanço"
      ]
    },
    {
      "cell_type": "markdown",
      "metadata": {
        "id": "NDJarghUMDXp",
        "colab_type": "text"
      },
      "source": [
        "![alt text](https://github.com/cunhamaicon/churn_modelling_deepaz/blob/master/img/balanco.jpg?raw=true)"
      ]
    },
    {
      "cell_type": "markdown",
      "metadata": {
        "id": "yTA86fJIMJhT",
        "colab_type": "text"
      },
      "source": [
        "### Salário estimado"
      ]
    },
    {
      "cell_type": "markdown",
      "metadata": {
        "id": "lpvP4JDOMOpP",
        "colab_type": "text"
      },
      "source": [
        "![alt text](https://github.com/cunhamaicon/churn_modelling_deepaz/blob/master/img/salario.jpg?raw=true)"
      ]
    },
    {
      "cell_type": "markdown",
      "metadata": {
        "id": "Urz0EqoYMUpr",
        "colab_type": "text"
      },
      "source": [
        "### Tempo de permanência"
      ]
    },
    {
      "cell_type": "markdown",
      "metadata": {
        "id": "RMluSYmAMcrt",
        "colab_type": "text"
      },
      "source": [
        "![alt text](https://github.com/cunhamaicon/churn_modelling_deepaz/blob/master/img/permanencia.jpg?raw=true)"
      ]
    },
    {
      "cell_type": "markdown",
      "metadata": {
        "id": "izXCo5Rq2lwV",
        "colab_type": "text"
      },
      "source": [
        "## Procedimentos iniciais"
      ]
    },
    {
      "cell_type": "markdown",
      "metadata": {
        "id": "ZDDd9SFgXUVG",
        "colab_type": "text"
      },
      "source": [
        "### Clone da pasta"
      ]
    },
    {
      "cell_type": "code",
      "metadata": {
        "id": "XRMR0ZlD2-1r",
        "colab_type": "code",
        "outputId": "90427a70-c08e-4fdc-feba-f37d85a9a273",
        "colab": {
          "base_uri": "https://localhost:8080/",
          "height": 118
        }
      },
      "source": [
        "!git clone https://github.com/cunhamaicon/churn_modelling_deepaz"
      ],
      "execution_count": 1,
      "outputs": [
        {
          "output_type": "stream",
          "text": [
            "Cloning into 'churn_modelling_deepaz'...\n",
            "remote: Enumerating objects: 3, done.\u001b[K\n",
            "remote: Counting objects: 100% (3/3), done.\u001b[K\n",
            "remote: Compressing objects: 100% (2/2), done.\u001b[K\n",
            "remote: Total 3 (delta 0), reused 3 (delta 0), pack-reused 0\u001b[K\n",
            "Unpacking objects: 100% (3/3), done.\n"
          ],
          "name": "stdout"
        }
      ]
    },
    {
      "cell_type": "markdown",
      "metadata": {
        "id": "lQHyGk7PSff6",
        "colab_type": "text"
      },
      "source": [
        "Visualizando as informações da pasta clonada:"
      ]
    },
    {
      "cell_type": "code",
      "metadata": {
        "id": "rMU_ZjJd4x8k",
        "colab_type": "code",
        "outputId": "8359cf47-04dd-4332-c051-42a6223cab68",
        "colab": {
          "base_uri": "https://localhost:8080/",
          "height": 34
        }
      },
      "source": [
        " ls churn_modelling_deepaz"
      ],
      "execution_count": 2,
      "outputs": [
        {
          "output_type": "stream",
          "text": [
            "Churn_Modelling.csv\n"
          ],
          "name": "stdout"
        }
      ]
    },
    {
      "cell_type": "markdown",
      "metadata": {
        "id": "e6xVJEHo2tmT",
        "colab_type": "text"
      },
      "source": [
        "### Importação de pacotes"
      ]
    },
    {
      "cell_type": "code",
      "metadata": {
        "id": "VlnMbFlY2wNK",
        "colab_type": "code",
        "colab": {}
      },
      "source": [
        "import numpy as np\n",
        "import matplotlib.pyplot as plt\n",
        "import pandas as pd\n",
        "import os\n",
        "import keras\n",
        "from keras.models import Sequential\n",
        "from keras.layers import Dense\n",
        "from keras.optimizers import Adam\n",
        "from keras.layers import Dropout\n",
        "import seaborn as sns\n",
        "from sklearn import metrics\n",
        "from sklearn.metrics import confusion_matrix\n",
        "from keras.wrappers.scikit_learn import KerasClassifier\n",
        "from sklearn.model_selection import cross_val_score\n",
        "from keras.optimizers import RMSprop\n",
        "from sklearn.model_selection import train_test_split\n",
        "from sklearn.preprocessing import StandardScaler"
      ],
      "execution_count": 0,
      "outputs": []
    },
    {
      "cell_type": "markdown",
      "metadata": {
        "id": "YxImy91b494B",
        "colab_type": "text"
      },
      "source": [
        "### Criação do dataset"
      ]
    },
    {
      "cell_type": "code",
      "metadata": {
        "id": "icfaqd1G5DkV",
        "colab_type": "code",
        "colab": {}
      },
      "source": [
        "datadir='churn_modelling_deepaz'\n",
        "dataset = pd.read_csv(os.path.join(datadir, \"Churn_Modelling.csv\"))\n",
        "pd.set_option('display.max_colwidth',-1)"
      ],
      "execution_count": 0,
      "outputs": []
    },
    {
      "cell_type": "markdown",
      "metadata": {
        "id": "zrqTX6XDTYu8",
        "colab_type": "text"
      },
      "source": [
        "Visualizando o cabeçalho do banco:"
      ]
    },
    {
      "cell_type": "code",
      "metadata": {
        "id": "xv_F7vAA5Xdl",
        "colab_type": "code",
        "outputId": "5f9f3822-55d9-4218-9243-82d73f8a136e",
        "colab": {
          "base_uri": "https://localhost:8080/",
          "height": 195
        }
      },
      "source": [
        "dataset.head()"
      ],
      "execution_count": 5,
      "outputs": [
        {
          "output_type": "execute_result",
          "data": {
            "text/html": [
              "<div>\n",
              "<style scoped>\n",
              "    .dataframe tbody tr th:only-of-type {\n",
              "        vertical-align: middle;\n",
              "    }\n",
              "\n",
              "    .dataframe tbody tr th {\n",
              "        vertical-align: top;\n",
              "    }\n",
              "\n",
              "    .dataframe thead th {\n",
              "        text-align: right;\n",
              "    }\n",
              "</style>\n",
              "<table border=\"1\" class=\"dataframe\">\n",
              "  <thead>\n",
              "    <tr style=\"text-align: right;\">\n",
              "      <th></th>\n",
              "      <th>RowNumber</th>\n",
              "      <th>CustomerId</th>\n",
              "      <th>Surname</th>\n",
              "      <th>CreditScore</th>\n",
              "      <th>Geography</th>\n",
              "      <th>Gender</th>\n",
              "      <th>Age</th>\n",
              "      <th>Tenure</th>\n",
              "      <th>Balance</th>\n",
              "      <th>NumOfProducts</th>\n",
              "      <th>HasCrCard</th>\n",
              "      <th>IsActiveMember</th>\n",
              "      <th>EstimatedSalary</th>\n",
              "      <th>Exited</th>\n",
              "    </tr>\n",
              "  </thead>\n",
              "  <tbody>\n",
              "    <tr>\n",
              "      <th>0</th>\n",
              "      <td>1</td>\n",
              "      <td>15634602</td>\n",
              "      <td>Hargrave</td>\n",
              "      <td>619</td>\n",
              "      <td>France</td>\n",
              "      <td>Female</td>\n",
              "      <td>42</td>\n",
              "      <td>2</td>\n",
              "      <td>0.00</td>\n",
              "      <td>1</td>\n",
              "      <td>1</td>\n",
              "      <td>1</td>\n",
              "      <td>101348.88</td>\n",
              "      <td>1</td>\n",
              "    </tr>\n",
              "    <tr>\n",
              "      <th>1</th>\n",
              "      <td>2</td>\n",
              "      <td>15647311</td>\n",
              "      <td>Hill</td>\n",
              "      <td>608</td>\n",
              "      <td>Spain</td>\n",
              "      <td>Female</td>\n",
              "      <td>41</td>\n",
              "      <td>1</td>\n",
              "      <td>83807.86</td>\n",
              "      <td>1</td>\n",
              "      <td>0</td>\n",
              "      <td>1</td>\n",
              "      <td>112542.58</td>\n",
              "      <td>0</td>\n",
              "    </tr>\n",
              "    <tr>\n",
              "      <th>2</th>\n",
              "      <td>3</td>\n",
              "      <td>15619304</td>\n",
              "      <td>Onio</td>\n",
              "      <td>502</td>\n",
              "      <td>France</td>\n",
              "      <td>Female</td>\n",
              "      <td>42</td>\n",
              "      <td>8</td>\n",
              "      <td>159660.80</td>\n",
              "      <td>3</td>\n",
              "      <td>1</td>\n",
              "      <td>0</td>\n",
              "      <td>113931.57</td>\n",
              "      <td>1</td>\n",
              "    </tr>\n",
              "    <tr>\n",
              "      <th>3</th>\n",
              "      <td>4</td>\n",
              "      <td>15701354</td>\n",
              "      <td>Boni</td>\n",
              "      <td>699</td>\n",
              "      <td>France</td>\n",
              "      <td>Female</td>\n",
              "      <td>39</td>\n",
              "      <td>1</td>\n",
              "      <td>0.00</td>\n",
              "      <td>2</td>\n",
              "      <td>0</td>\n",
              "      <td>0</td>\n",
              "      <td>93826.63</td>\n",
              "      <td>0</td>\n",
              "    </tr>\n",
              "    <tr>\n",
              "      <th>4</th>\n",
              "      <td>5</td>\n",
              "      <td>15737888</td>\n",
              "      <td>Mitchell</td>\n",
              "      <td>850</td>\n",
              "      <td>Spain</td>\n",
              "      <td>Female</td>\n",
              "      <td>43</td>\n",
              "      <td>2</td>\n",
              "      <td>125510.82</td>\n",
              "      <td>1</td>\n",
              "      <td>1</td>\n",
              "      <td>1</td>\n",
              "      <td>79084.10</td>\n",
              "      <td>0</td>\n",
              "    </tr>\n",
              "  </tbody>\n",
              "</table>\n",
              "</div>"
            ],
            "text/plain": [
              "   RowNumber  CustomerId   Surname  ...  IsActiveMember EstimatedSalary Exited\n",
              "0  1          15634602    Hargrave  ...  1               101348.88       1    \n",
              "1  2          15647311    Hill      ...  1               112542.58       0    \n",
              "2  3          15619304    Onio      ...  0               113931.57       1    \n",
              "3  4          15701354    Boni      ...  0               93826.63        0    \n",
              "4  5          15737888    Mitchell  ...  1               79084.10        0    \n",
              "\n",
              "[5 rows x 14 columns]"
            ]
          },
          "metadata": {
            "tags": []
          },
          "execution_count": 5
        }
      ]
    },
    {
      "cell_type": "markdown",
      "metadata": {
        "id": "lxD_2LPnTekS",
        "colab_type": "text"
      },
      "source": [
        "Visualizando informações do banco:"
      ]
    },
    {
      "cell_type": "code",
      "metadata": {
        "id": "nNUNIE4uTi9K",
        "colab_type": "code",
        "colab": {
          "base_uri": "https://localhost:8080/",
          "height": 336
        },
        "outputId": "3b3ddfcf-5625-4839-cb19-3f6d7272dc32"
      },
      "source": [
        "dataset.info()"
      ],
      "execution_count": 6,
      "outputs": [
        {
          "output_type": "stream",
          "text": [
            "<class 'pandas.core.frame.DataFrame'>\n",
            "RangeIndex: 10000 entries, 0 to 9999\n",
            "Data columns (total 14 columns):\n",
            "RowNumber          10000 non-null int64\n",
            "CustomerId         10000 non-null int64\n",
            "Surname            10000 non-null object\n",
            "CreditScore        10000 non-null int64\n",
            "Geography          10000 non-null object\n",
            "Gender             10000 non-null object\n",
            "Age                10000 non-null int64\n",
            "Tenure             10000 non-null int64\n",
            "Balance            10000 non-null float64\n",
            "NumOfProducts      10000 non-null int64\n",
            "HasCrCard          10000 non-null int64\n",
            "IsActiveMember     10000 non-null int64\n",
            "EstimatedSalary    10000 non-null float64\n",
            "Exited             10000 non-null int64\n",
            "dtypes: float64(2), int64(9), object(3)\n",
            "memory usage: 1.1+ MB\n"
          ],
          "name": "stdout"
        }
      ]
    },
    {
      "cell_type": "markdown",
      "metadata": {
        "id": "l-UMoyf_Tquc",
        "colab_type": "text"
      },
      "source": [
        "Como podemos observar se trata de um banco com dez mil usuários onde todas as entradas são não nulas"
      ]
    },
    {
      "cell_type": "markdown",
      "metadata": {
        "id": "nx9qsxV5XcpA",
        "colab_type": "text"
      },
      "source": [
        "### Tratamento do banco"
      ]
    },
    {
      "cell_type": "markdown",
      "metadata": {
        "id": "XC9FSwHGXnPb",
        "colab_type": "text"
      },
      "source": [
        "Exluindo colunas que não serão utilizadas:"
      ]
    },
    {
      "cell_type": "code",
      "metadata": {
        "id": "K8KLez8F5a2i",
        "colab_type": "code",
        "colab": {}
      },
      "source": [
        "dataset = dataset.drop(columns = ['RowNumber','CustomerId','Surname'])"
      ],
      "execution_count": 0,
      "outputs": []
    },
    {
      "cell_type": "code",
      "metadata": {
        "id": "TwzfIzkz6aQc",
        "colab_type": "code",
        "outputId": "061ab9bb-9956-4144-9324-5af9efceb013",
        "colab": {
          "base_uri": "https://localhost:8080/",
          "height": 195
        }
      },
      "source": [
        "dataset.head()"
      ],
      "execution_count": 8,
      "outputs": [
        {
          "output_type": "execute_result",
          "data": {
            "text/html": [
              "<div>\n",
              "<style scoped>\n",
              "    .dataframe tbody tr th:only-of-type {\n",
              "        vertical-align: middle;\n",
              "    }\n",
              "\n",
              "    .dataframe tbody tr th {\n",
              "        vertical-align: top;\n",
              "    }\n",
              "\n",
              "    .dataframe thead th {\n",
              "        text-align: right;\n",
              "    }\n",
              "</style>\n",
              "<table border=\"1\" class=\"dataframe\">\n",
              "  <thead>\n",
              "    <tr style=\"text-align: right;\">\n",
              "      <th></th>\n",
              "      <th>CreditScore</th>\n",
              "      <th>Geography</th>\n",
              "      <th>Gender</th>\n",
              "      <th>Age</th>\n",
              "      <th>Tenure</th>\n",
              "      <th>Balance</th>\n",
              "      <th>NumOfProducts</th>\n",
              "      <th>HasCrCard</th>\n",
              "      <th>IsActiveMember</th>\n",
              "      <th>EstimatedSalary</th>\n",
              "      <th>Exited</th>\n",
              "    </tr>\n",
              "  </thead>\n",
              "  <tbody>\n",
              "    <tr>\n",
              "      <th>0</th>\n",
              "      <td>619</td>\n",
              "      <td>France</td>\n",
              "      <td>Female</td>\n",
              "      <td>42</td>\n",
              "      <td>2</td>\n",
              "      <td>0.00</td>\n",
              "      <td>1</td>\n",
              "      <td>1</td>\n",
              "      <td>1</td>\n",
              "      <td>101348.88</td>\n",
              "      <td>1</td>\n",
              "    </tr>\n",
              "    <tr>\n",
              "      <th>1</th>\n",
              "      <td>608</td>\n",
              "      <td>Spain</td>\n",
              "      <td>Female</td>\n",
              "      <td>41</td>\n",
              "      <td>1</td>\n",
              "      <td>83807.86</td>\n",
              "      <td>1</td>\n",
              "      <td>0</td>\n",
              "      <td>1</td>\n",
              "      <td>112542.58</td>\n",
              "      <td>0</td>\n",
              "    </tr>\n",
              "    <tr>\n",
              "      <th>2</th>\n",
              "      <td>502</td>\n",
              "      <td>France</td>\n",
              "      <td>Female</td>\n",
              "      <td>42</td>\n",
              "      <td>8</td>\n",
              "      <td>159660.80</td>\n",
              "      <td>3</td>\n",
              "      <td>1</td>\n",
              "      <td>0</td>\n",
              "      <td>113931.57</td>\n",
              "      <td>1</td>\n",
              "    </tr>\n",
              "    <tr>\n",
              "      <th>3</th>\n",
              "      <td>699</td>\n",
              "      <td>France</td>\n",
              "      <td>Female</td>\n",
              "      <td>39</td>\n",
              "      <td>1</td>\n",
              "      <td>0.00</td>\n",
              "      <td>2</td>\n",
              "      <td>0</td>\n",
              "      <td>0</td>\n",
              "      <td>93826.63</td>\n",
              "      <td>0</td>\n",
              "    </tr>\n",
              "    <tr>\n",
              "      <th>4</th>\n",
              "      <td>850</td>\n",
              "      <td>Spain</td>\n",
              "      <td>Female</td>\n",
              "      <td>43</td>\n",
              "      <td>2</td>\n",
              "      <td>125510.82</td>\n",
              "      <td>1</td>\n",
              "      <td>1</td>\n",
              "      <td>1</td>\n",
              "      <td>79084.10</td>\n",
              "      <td>0</td>\n",
              "    </tr>\n",
              "  </tbody>\n",
              "</table>\n",
              "</div>"
            ],
            "text/plain": [
              "   CreditScore Geography  Gender  ...  IsActiveMember  EstimatedSalary  Exited\n",
              "0  619          France    Female  ...  1               101348.88        1     \n",
              "1  608          Spain     Female  ...  1               112542.58        0     \n",
              "2  502          France    Female  ...  0               113931.57        1     \n",
              "3  699          France    Female  ...  0               93826.63         0     \n",
              "4  850          Spain     Female  ...  1               79084.10         0     \n",
              "\n",
              "[5 rows x 11 columns]"
            ]
          },
          "metadata": {
            "tags": []
          },
          "execution_count": 8
        }
      ]
    },
    {
      "cell_type": "markdown",
      "metadata": {
        "id": "_903J6DoXvN9",
        "colab_type": "text"
      },
      "source": [
        "Criando dummies das variáveis categóricas \"Geography\" e \"Gender\":"
      ]
    },
    {
      "cell_type": "code",
      "metadata": {
        "id": "eBl0YnF29imc",
        "colab_type": "code",
        "outputId": "da27e3a3-f22d-4388-ddf4-46f22b7abc99",
        "colab": {
          "base_uri": "https://localhost:8080/",
          "height": 195
        }
      },
      "source": [
        "dataset = pd.get_dummies(dataset, columns =['Geography','Gender'], drop_first=True)\n",
        "dataset.head()"
      ],
      "execution_count": 9,
      "outputs": [
        {
          "output_type": "execute_result",
          "data": {
            "text/html": [
              "<div>\n",
              "<style scoped>\n",
              "    .dataframe tbody tr th:only-of-type {\n",
              "        vertical-align: middle;\n",
              "    }\n",
              "\n",
              "    .dataframe tbody tr th {\n",
              "        vertical-align: top;\n",
              "    }\n",
              "\n",
              "    .dataframe thead th {\n",
              "        text-align: right;\n",
              "    }\n",
              "</style>\n",
              "<table border=\"1\" class=\"dataframe\">\n",
              "  <thead>\n",
              "    <tr style=\"text-align: right;\">\n",
              "      <th></th>\n",
              "      <th>CreditScore</th>\n",
              "      <th>Age</th>\n",
              "      <th>Tenure</th>\n",
              "      <th>Balance</th>\n",
              "      <th>NumOfProducts</th>\n",
              "      <th>HasCrCard</th>\n",
              "      <th>IsActiveMember</th>\n",
              "      <th>EstimatedSalary</th>\n",
              "      <th>Exited</th>\n",
              "      <th>Geography_Germany</th>\n",
              "      <th>Geography_Spain</th>\n",
              "      <th>Gender_Male</th>\n",
              "    </tr>\n",
              "  </thead>\n",
              "  <tbody>\n",
              "    <tr>\n",
              "      <th>0</th>\n",
              "      <td>619</td>\n",
              "      <td>42</td>\n",
              "      <td>2</td>\n",
              "      <td>0.00</td>\n",
              "      <td>1</td>\n",
              "      <td>1</td>\n",
              "      <td>1</td>\n",
              "      <td>101348.88</td>\n",
              "      <td>1</td>\n",
              "      <td>0</td>\n",
              "      <td>0</td>\n",
              "      <td>0</td>\n",
              "    </tr>\n",
              "    <tr>\n",
              "      <th>1</th>\n",
              "      <td>608</td>\n",
              "      <td>41</td>\n",
              "      <td>1</td>\n",
              "      <td>83807.86</td>\n",
              "      <td>1</td>\n",
              "      <td>0</td>\n",
              "      <td>1</td>\n",
              "      <td>112542.58</td>\n",
              "      <td>0</td>\n",
              "      <td>0</td>\n",
              "      <td>1</td>\n",
              "      <td>0</td>\n",
              "    </tr>\n",
              "    <tr>\n",
              "      <th>2</th>\n",
              "      <td>502</td>\n",
              "      <td>42</td>\n",
              "      <td>8</td>\n",
              "      <td>159660.80</td>\n",
              "      <td>3</td>\n",
              "      <td>1</td>\n",
              "      <td>0</td>\n",
              "      <td>113931.57</td>\n",
              "      <td>1</td>\n",
              "      <td>0</td>\n",
              "      <td>0</td>\n",
              "      <td>0</td>\n",
              "    </tr>\n",
              "    <tr>\n",
              "      <th>3</th>\n",
              "      <td>699</td>\n",
              "      <td>39</td>\n",
              "      <td>1</td>\n",
              "      <td>0.00</td>\n",
              "      <td>2</td>\n",
              "      <td>0</td>\n",
              "      <td>0</td>\n",
              "      <td>93826.63</td>\n",
              "      <td>0</td>\n",
              "      <td>0</td>\n",
              "      <td>0</td>\n",
              "      <td>0</td>\n",
              "    </tr>\n",
              "    <tr>\n",
              "      <th>4</th>\n",
              "      <td>850</td>\n",
              "      <td>43</td>\n",
              "      <td>2</td>\n",
              "      <td>125510.82</td>\n",
              "      <td>1</td>\n",
              "      <td>1</td>\n",
              "      <td>1</td>\n",
              "      <td>79084.10</td>\n",
              "      <td>0</td>\n",
              "      <td>0</td>\n",
              "      <td>1</td>\n",
              "      <td>0</td>\n",
              "    </tr>\n",
              "  </tbody>\n",
              "</table>\n",
              "</div>"
            ],
            "text/plain": [
              "   CreditScore  Age  Tenure  ...  Geography_Germany  Geography_Spain  Gender_Male\n",
              "0  619          42   2       ...  0                  0                0          \n",
              "1  608          41   1       ...  0                  1                0          \n",
              "2  502          42   8       ...  0                  0                0          \n",
              "3  699          39   1       ...  0                  0                0          \n",
              "4  850          43   2       ...  0                  1                0          \n",
              "\n",
              "[5 rows x 12 columns]"
            ]
          },
          "metadata": {
            "tags": []
          },
          "execution_count": 9
        }
      ]
    },
    {
      "cell_type": "markdown",
      "metadata": {
        "id": "_NBZb7kT919V",
        "colab_type": "text"
      },
      "source": [
        "Reordenando as colunas do dataset:"
      ]
    },
    {
      "cell_type": "code",
      "metadata": {
        "id": "vfzl57zLEI1E",
        "colab_type": "code",
        "colab": {}
      },
      "source": [
        "cols = list(dataset.columns.values)"
      ],
      "execution_count": 0,
      "outputs": []
    },
    {
      "cell_type": "code",
      "metadata": {
        "id": "pN8tjCJXFGqm",
        "colab_type": "code",
        "outputId": "8843a797-a21c-4765-c187-9b43b60c6ba8",
        "colab": {
          "base_uri": "https://localhost:8080/",
          "height": 218
        }
      },
      "source": [
        "cols"
      ],
      "execution_count": 12,
      "outputs": [
        {
          "output_type": "execute_result",
          "data": {
            "text/plain": [
              "['CreditScore',\n",
              " 'Age',\n",
              " 'Tenure',\n",
              " 'Balance',\n",
              " 'NumOfProducts',\n",
              " 'HasCrCard',\n",
              " 'IsActiveMember',\n",
              " 'EstimatedSalary',\n",
              " 'Exited',\n",
              " 'Geography_Germany',\n",
              " 'Geography_Spain',\n",
              " 'Gender_Male']"
            ]
          },
          "metadata": {
            "tags": []
          },
          "execution_count": 12
        }
      ]
    },
    {
      "cell_type": "code",
      "metadata": {
        "id": "5ExoWzryELjw",
        "colab_type": "code",
        "colab": {}
      },
      "source": [
        "dataset = dataset[\n",
        "  ['CreditScore',\n",
        " 'Age',\n",
        " 'Tenure',\n",
        " 'Balance',\n",
        " 'NumOfProducts',\n",
        " 'HasCrCard',\n",
        " 'IsActiveMember',\n",
        " 'EstimatedSalary',\n",
        " 'Geography_Germany',\n",
        " 'Geography_Spain',\n",
        " 'Gender_Male',\n",
        "  'Exited']]"
      ],
      "execution_count": 0,
      "outputs": []
    },
    {
      "cell_type": "code",
      "metadata": {
        "id": "uJZJVyhMEkI-",
        "colab_type": "code",
        "outputId": "e9e7d6a8-4a64-495b-8eb5-9513da94d761",
        "colab": {
          "base_uri": "https://localhost:8080/",
          "height": 195
        }
      },
      "source": [
        "dataset.head()"
      ],
      "execution_count": 14,
      "outputs": [
        {
          "output_type": "execute_result",
          "data": {
            "text/html": [
              "<div>\n",
              "<style scoped>\n",
              "    .dataframe tbody tr th:only-of-type {\n",
              "        vertical-align: middle;\n",
              "    }\n",
              "\n",
              "    .dataframe tbody tr th {\n",
              "        vertical-align: top;\n",
              "    }\n",
              "\n",
              "    .dataframe thead th {\n",
              "        text-align: right;\n",
              "    }\n",
              "</style>\n",
              "<table border=\"1\" class=\"dataframe\">\n",
              "  <thead>\n",
              "    <tr style=\"text-align: right;\">\n",
              "      <th></th>\n",
              "      <th>CreditScore</th>\n",
              "      <th>Age</th>\n",
              "      <th>Tenure</th>\n",
              "      <th>Balance</th>\n",
              "      <th>NumOfProducts</th>\n",
              "      <th>HasCrCard</th>\n",
              "      <th>IsActiveMember</th>\n",
              "      <th>EstimatedSalary</th>\n",
              "      <th>Geography_Germany</th>\n",
              "      <th>Geography_Spain</th>\n",
              "      <th>Gender_Male</th>\n",
              "      <th>Exited</th>\n",
              "    </tr>\n",
              "  </thead>\n",
              "  <tbody>\n",
              "    <tr>\n",
              "      <th>0</th>\n",
              "      <td>619</td>\n",
              "      <td>42</td>\n",
              "      <td>2</td>\n",
              "      <td>0.00</td>\n",
              "      <td>1</td>\n",
              "      <td>1</td>\n",
              "      <td>1</td>\n",
              "      <td>101348.88</td>\n",
              "      <td>0</td>\n",
              "      <td>0</td>\n",
              "      <td>0</td>\n",
              "      <td>1</td>\n",
              "    </tr>\n",
              "    <tr>\n",
              "      <th>1</th>\n",
              "      <td>608</td>\n",
              "      <td>41</td>\n",
              "      <td>1</td>\n",
              "      <td>83807.86</td>\n",
              "      <td>1</td>\n",
              "      <td>0</td>\n",
              "      <td>1</td>\n",
              "      <td>112542.58</td>\n",
              "      <td>0</td>\n",
              "      <td>1</td>\n",
              "      <td>0</td>\n",
              "      <td>0</td>\n",
              "    </tr>\n",
              "    <tr>\n",
              "      <th>2</th>\n",
              "      <td>502</td>\n",
              "      <td>42</td>\n",
              "      <td>8</td>\n",
              "      <td>159660.80</td>\n",
              "      <td>3</td>\n",
              "      <td>1</td>\n",
              "      <td>0</td>\n",
              "      <td>113931.57</td>\n",
              "      <td>0</td>\n",
              "      <td>0</td>\n",
              "      <td>0</td>\n",
              "      <td>1</td>\n",
              "    </tr>\n",
              "    <tr>\n",
              "      <th>3</th>\n",
              "      <td>699</td>\n",
              "      <td>39</td>\n",
              "      <td>1</td>\n",
              "      <td>0.00</td>\n",
              "      <td>2</td>\n",
              "      <td>0</td>\n",
              "      <td>0</td>\n",
              "      <td>93826.63</td>\n",
              "      <td>0</td>\n",
              "      <td>0</td>\n",
              "      <td>0</td>\n",
              "      <td>0</td>\n",
              "    </tr>\n",
              "    <tr>\n",
              "      <th>4</th>\n",
              "      <td>850</td>\n",
              "      <td>43</td>\n",
              "      <td>2</td>\n",
              "      <td>125510.82</td>\n",
              "      <td>1</td>\n",
              "      <td>1</td>\n",
              "      <td>1</td>\n",
              "      <td>79084.10</td>\n",
              "      <td>0</td>\n",
              "      <td>1</td>\n",
              "      <td>0</td>\n",
              "      <td>0</td>\n",
              "    </tr>\n",
              "  </tbody>\n",
              "</table>\n",
              "</div>"
            ],
            "text/plain": [
              "   CreditScore  Age  Tenure  ...  Geography_Spain  Gender_Male  Exited\n",
              "0  619          42   2       ...  0                0            1     \n",
              "1  608          41   1       ...  1                0            0     \n",
              "2  502          42   8       ...  0                0            1     \n",
              "3  699          39   1       ...  0                0            0     \n",
              "4  850          43   2       ...  1                0            0     \n",
              "\n",
              "[5 rows x 12 columns]"
            ]
          },
          "metadata": {
            "tags": []
          },
          "execution_count": 14
        }
      ]
    },
    {
      "cell_type": "markdown",
      "metadata": {
        "id": "mMgc885jYjPb",
        "colab_type": "text"
      },
      "source": [
        "### Separando Treinamento e teste"
      ]
    },
    {
      "cell_type": "markdown",
      "metadata": {
        "id": "LQe2Uv88U2sO",
        "colab_type": "text"
      },
      "source": [
        "Variável de entrada da rede:"
      ]
    },
    {
      "cell_type": "code",
      "metadata": {
        "id": "iQbncUbu7aRS",
        "colab_type": "code",
        "colab": {}
      },
      "source": [
        "X = dataset.iloc[:,:-1].values"
      ],
      "execution_count": 0,
      "outputs": []
    },
    {
      "cell_type": "markdown",
      "metadata": {
        "id": "EwfD5cIhU5u1",
        "colab_type": "text"
      },
      "source": [
        "Variável de saída da rede:"
      ]
    },
    {
      "cell_type": "code",
      "metadata": {
        "id": "uYFNVelH7mlV",
        "colab_type": "code",
        "colab": {}
      },
      "source": [
        "y = dataset.iloc[:,-1].values"
      ],
      "execution_count": 0,
      "outputs": []
    },
    {
      "cell_type": "markdown",
      "metadata": {
        "id": "J35amSDuU-WS",
        "colab_type": "text"
      },
      "source": [
        "Criando conjuntos de treinamento e teste:"
      ]
    },
    {
      "cell_type": "code",
      "metadata": {
        "id": "KxBqeb6UFyRb",
        "colab_type": "code",
        "colab": {}
      },
      "source": [
        "X_train,X_test,y_train,y_test = train_test_split(X,y, test_size = 0.2 ,random_state = 0)"
      ],
      "execution_count": 0,
      "outputs": []
    },
    {
      "cell_type": "markdown",
      "metadata": {
        "id": "ojjGAhqfYrwJ",
        "colab_type": "text"
      },
      "source": [
        "### Standard Scaler"
      ]
    },
    {
      "cell_type": "markdown",
      "metadata": {
        "id": "2ggGW78hVQJn",
        "colab_type": "text"
      },
      "source": [
        "Para lidar com dados muito diferentes como \"CreditScore\" e \"Balance\" é preciso fazer um escalonamento dos dados. Para isso usamos o StandardScaler que deve utilizar como parâmetro o cojunto de treinamento e aplicado tanto no cokunto de treinamento como de teste."
      ]
    },
    {
      "cell_type": "code",
      "metadata": {
        "id": "DswSj6Y-HZEy",
        "colab_type": "code",
        "colab": {}
      },
      "source": [
        "sc = StandardScaler()\n",
        "X_train = sc.fit_transform(X_train)\n",
        "X_test = sc.transform(X_test)"
      ],
      "execution_count": 0,
      "outputs": []
    },
    {
      "cell_type": "markdown",
      "metadata": {
        "id": "VZreRlD-Y5k4",
        "colab_type": "text"
      },
      "source": [
        "## ANN - Teste1"
      ]
    },
    {
      "cell_type": "markdown",
      "metadata": {
        "id": "Twyuc1B_V_FV",
        "colab_type": "text"
      },
      "source": [
        "Criando uma rede neural composta por duas camadas intermediárias com seis neurônios em camada camada intermediária e duas camadas dropout intermediárias para evitar overfitting:"
      ]
    },
    {
      "cell_type": "code",
      "metadata": {
        "id": "s8Zor5jaZADa",
        "colab_type": "code",
        "colab": {}
      },
      "source": [
        "classifier1 = Sequential()\n",
        "\n",
        "classifier1.add(Dense(units = 6, kernel_initializer = 'uniform', activation = 'relu', input_dim = 11))\n",
        "classifier1.add(Dropout(0.1))\n",
        "classifier1.add(Dense(units = 6, kernel_initializer = 'uniform', activation = 'relu'))\n",
        "classifier1.add(Dropout(0.1))\n",
        "classifier1.add(Dense(units = 1, kernel_initializer = 'uniform', activation = 'sigmoid'))\n",
        "classifier1.compile(Adam(lr=0.001), loss = 'binary_crossentropy', metrics = ['accuracy'])"
      ],
      "execution_count": 0,
      "outputs": []
    },
    {
      "cell_type": "markdown",
      "metadata": {
        "id": "e3amx2p5W2On",
        "colab_type": "text"
      },
      "source": [
        "Visualizando as informações da rede criada:"
      ]
    },
    {
      "cell_type": "code",
      "metadata": {
        "id": "mr8i24ytWHvj",
        "colab_type": "code",
        "colab": {
          "base_uri": "https://localhost:8080/",
          "height": 302
        },
        "outputId": "0e331f08-67b4-4b86-80a8-f1bcb908376f"
      },
      "source": [
        "classifier1.summary()"
      ],
      "execution_count": 25,
      "outputs": [
        {
          "output_type": "stream",
          "text": [
            "_________________________________________________________________\n",
            "Layer (type)                 Output Shape              Param #   \n",
            "=================================================================\n",
            "dense_4 (Dense)              (None, 6)                 72        \n",
            "_________________________________________________________________\n",
            "dropout_3 (Dropout)          (None, 6)                 0         \n",
            "_________________________________________________________________\n",
            "dense_5 (Dense)              (None, 6)                 42        \n",
            "_________________________________________________________________\n",
            "dropout_4 (Dropout)          (None, 6)                 0         \n",
            "_________________________________________________________________\n",
            "dense_6 (Dense)              (None, 1)                 7         \n",
            "=================================================================\n",
            "Total params: 121\n",
            "Trainable params: 121\n",
            "Non-trainable params: 0\n",
            "_________________________________________________________________\n"
          ],
          "name": "stdout"
        }
      ]
    },
    {
      "cell_type": "markdown",
      "metadata": {
        "id": "EfB-3-IUW9Zo",
        "colab_type": "text"
      },
      "source": [
        "Treinando o modelo:"
      ]
    },
    {
      "cell_type": "code",
      "metadata": {
        "colab_type": "code",
        "outputId": "5f6ac2b9-ee15-4602-e781-35896751e704",
        "id": "OEcvRWzQfFIC",
        "colab": {
          "base_uri": "https://localhost:8080/",
          "height": 1112
        }
      },
      "source": [
        "history = classifier1.fit(X_train, y_train, batch_size = 10, epochs = 30,validation_data=(X_test,y_test))"
      ],
      "execution_count": 26,
      "outputs": [
        {
          "output_type": "stream",
          "text": [
            "WARNING:tensorflow:From /usr/local/lib/python3.6/dist-packages/tensorflow/python/ops/math_ops.py:3066: to_int32 (from tensorflow.python.ops.math_ops) is deprecated and will be removed in a future version.\n",
            "Instructions for updating:\n",
            "Use tf.cast instead.\n",
            "Train on 8000 samples, validate on 2000 samples\n",
            "Epoch 1/30\n",
            "8000/8000 [==============================] - 6s 711us/step - loss: 0.4882 - acc: 0.7960 - val_loss: 0.4310 - val_acc: 0.7975\n",
            "Epoch 2/30\n",
            "8000/8000 [==============================] - 3s 334us/step - loss: 0.4362 - acc: 0.7960 - val_loss: 0.4269 - val_acc: 0.7975\n",
            "Epoch 3/30\n",
            "8000/8000 [==============================] - 3s 376us/step - loss: 0.4309 - acc: 0.7960 - val_loss: 0.4212 - val_acc: 0.7975\n",
            "Epoch 4/30\n",
            "8000/8000 [==============================] - 3s 392us/step - loss: 0.4296 - acc: 0.7960 - val_loss: 0.4176 - val_acc: 0.7975\n",
            "Epoch 5/30\n",
            "8000/8000 [==============================] - 3s 329us/step - loss: 0.4249 - acc: 0.8095 - val_loss: 0.4158 - val_acc: 0.8210\n",
            "Epoch 6/30\n",
            "8000/8000 [==============================] - 3s 331us/step - loss: 0.4259 - acc: 0.8245 - val_loss: 0.4145 - val_acc: 0.8310\n",
            "Epoch 7/30\n",
            "8000/8000 [==============================] - 3s 328us/step - loss: 0.4276 - acc: 0.8255 - val_loss: 0.4115 - val_acc: 0.8325\n",
            "Epoch 8/30\n",
            "8000/8000 [==============================] - 3s 329us/step - loss: 0.4265 - acc: 0.8290 - val_loss: 0.4128 - val_acc: 0.8285\n",
            "Epoch 9/30\n",
            "8000/8000 [==============================] - 3s 332us/step - loss: 0.4241 - acc: 0.8289 - val_loss: 0.4114 - val_acc: 0.8345\n",
            "Epoch 10/30\n",
            "8000/8000 [==============================] - 3s 334us/step - loss: 0.4262 - acc: 0.8287 - val_loss: 0.4122 - val_acc: 0.8395\n",
            "Epoch 11/30\n",
            "8000/8000 [==============================] - 3s 331us/step - loss: 0.4255 - acc: 0.8306 - val_loss: 0.4104 - val_acc: 0.8355\n",
            "Epoch 12/30\n",
            "8000/8000 [==============================] - 3s 331us/step - loss: 0.4242 - acc: 0.8291 - val_loss: 0.4090 - val_acc: 0.8340\n",
            "Epoch 13/30\n",
            "8000/8000 [==============================] - 3s 330us/step - loss: 0.4237 - acc: 0.8290 - val_loss: 0.4088 - val_acc: 0.8375\n",
            "Epoch 14/30\n",
            "8000/8000 [==============================] - 3s 335us/step - loss: 0.4222 - acc: 0.8310 - val_loss: 0.4107 - val_acc: 0.8390\n",
            "Epoch 15/30\n",
            "8000/8000 [==============================] - 3s 327us/step - loss: 0.4230 - acc: 0.8301 - val_loss: 0.4085 - val_acc: 0.8370\n",
            "Epoch 16/30\n",
            "8000/8000 [==============================] - 3s 330us/step - loss: 0.4235 - acc: 0.8294 - val_loss: 0.4064 - val_acc: 0.8390\n",
            "Epoch 17/30\n",
            "8000/8000 [==============================] - 3s 329us/step - loss: 0.4234 - acc: 0.8290 - val_loss: 0.4083 - val_acc: 0.8410\n",
            "Epoch 18/30\n",
            "8000/8000 [==============================] - 3s 331us/step - loss: 0.4233 - acc: 0.8312 - val_loss: 0.4097 - val_acc: 0.8400\n",
            "Epoch 19/30\n",
            "8000/8000 [==============================] - 3s 331us/step - loss: 0.4218 - acc: 0.8295 - val_loss: 0.4081 - val_acc: 0.8390\n",
            "Epoch 20/30\n",
            "8000/8000 [==============================] - 3s 331us/step - loss: 0.4193 - acc: 0.8324 - val_loss: 0.4072 - val_acc: 0.8395\n",
            "Epoch 21/30\n",
            "8000/8000 [==============================] - 3s 331us/step - loss: 0.4205 - acc: 0.8317 - val_loss: 0.4066 - val_acc: 0.8370\n",
            "Epoch 22/30\n",
            "8000/8000 [==============================] - 3s 331us/step - loss: 0.4227 - acc: 0.8317 - val_loss: 0.4070 - val_acc: 0.8405\n",
            "Epoch 23/30\n",
            "8000/8000 [==============================] - 3s 330us/step - loss: 0.4224 - acc: 0.8315 - val_loss: 0.4074 - val_acc: 0.8395\n",
            "Epoch 24/30\n",
            "8000/8000 [==============================] - 3s 330us/step - loss: 0.4171 - acc: 0.8325 - val_loss: 0.4050 - val_acc: 0.8400\n",
            "Epoch 25/30\n",
            "8000/8000 [==============================] - 3s 362us/step - loss: 0.4234 - acc: 0.8296 - val_loss: 0.4065 - val_acc: 0.8405\n",
            "Epoch 26/30\n",
            "8000/8000 [==============================] - 3s 384us/step - loss: 0.4215 - acc: 0.8301 - val_loss: 0.4064 - val_acc: 0.8390\n",
            "Epoch 27/30\n",
            "8000/8000 [==============================] - 3s 382us/step - loss: 0.4225 - acc: 0.8316 - val_loss: 0.4073 - val_acc: 0.8400\n",
            "Epoch 28/30\n",
            "8000/8000 [==============================] - 3s 363us/step - loss: 0.4243 - acc: 0.8320 - val_loss: 0.4077 - val_acc: 0.8410\n",
            "Epoch 29/30\n",
            "8000/8000 [==============================] - 3s 331us/step - loss: 0.4208 - acc: 0.8325 - val_loss: 0.4063 - val_acc: 0.8375\n",
            "Epoch 30/30\n",
            "8000/8000 [==============================] - 3s 331us/step - loss: 0.4231 - acc: 0.8319 - val_loss: 0.4056 - val_acc: 0.8390\n"
          ],
          "name": "stdout"
        }
      ]
    },
    {
      "cell_type": "markdown",
      "metadata": {
        "id": "BJjxYtCb9U4A",
        "colab_type": "text"
      },
      "source": [
        "### Análise Teste 1"
      ]
    },
    {
      "cell_type": "markdown",
      "metadata": {
        "id": "TZpkskyNY3_I",
        "colab_type": "text"
      },
      "source": [
        "Erro e acurácia nos conjunto de treinamento e validação:"
      ]
    },
    {
      "cell_type": "code",
      "metadata": {
        "id": "fq5kCx57YBrI",
        "colab_type": "code",
        "colab": {
          "base_uri": "https://localhost:8080/",
          "height": 297
        },
        "outputId": "b9eb9265-0ce7-4c9d-fd07-4f2510a87c1e"
      },
      "source": [
        "plt.plot(history.history['loss'], label='train loss')\n",
        "plt.plot(history.history['val_loss'], label='val loss')\n",
        "plt.legend()\n",
        "plt.title(\"Erro nos conjuntos de treinamento e validação\")\n",
        "plt.xlabel(\"Épocas\")\n",
        "plt.ylabel(\"Erro\")\n",
        "plt.show()"
      ],
      "execution_count": 27,
      "outputs": [
        {
          "output_type": "display_data",
          "data": {
            "image/png": "[encoded data removed]",
            "text/plain": [
              "<Figure size 432x288 with 1 Axes>"
            ]
          },
          "metadata": {
            "tags": []
          }
        }
      ]
    },
    {
      "cell_type": "code",
      "metadata": {
        "id": "6RxrzEgAYaqe",
        "colab_type": "code",
        "colab": {
          "base_uri": "https://localhost:8080/",
          "height": 297
        },
        "outputId": "a0cd1bd7-6981-492b-b937-b062c247f78d"
      },
      "source": [
        "plt.plot(history.history['acc'], label='train acc')\n",
        "plt.plot(history.history['val_acc'], label='val acc')\n",
        "plt.legend()\n",
        "plt.title(\"Acurácia nos conjuntos de treinamento e validação\")\n",
        "plt.xlabel(\"Épocas\")\n",
        "plt.ylabel(\"Acurácia\")\n",
        "plt.show()"
      ],
      "execution_count": 28,
      "outputs": [
        {
          "output_type": "display_data",
          "data": {
            "image/png": "[encoded data removed]",
            "text/plain": [
              "<Figure size 432x288 with 1 Axes>"
            ]
          },
          "metadata": {
            "tags": []
          }
        }
      ]
    },
    {
      "cell_type": "markdown",
      "metadata": {
        "id": "sYbNYPrhY1qs",
        "colab_type": "text"
      },
      "source": [
        "Visualização da matriz de confusão no conjunto de testes:"
      ]
    },
    {
      "cell_type": "code",
      "metadata": {
        "id": "p463is009bVd",
        "colab_type": "code",
        "colab": {}
      },
      "source": [
        "y_pred = classifier1.predict(X_test)"
      ],
      "execution_count": 0,
      "outputs": []
    },
    {
      "cell_type": "markdown",
      "metadata": {
        "id": "XjDqtINPeFFm",
        "colab_type": "text"
      },
      "source": [
        "Curva Roc do modelo:"
      ]
    },
    {
      "cell_type": "code",
      "metadata": {
        "id": "DBxKT5HDd8ok",
        "colab_type": "code",
        "colab": {
          "base_uri": "https://localhost:8080/",
          "height": 295
        },
        "outputId": "cbf3a497-1438-495b-ccdd-8e6a3e20f623"
      },
      "source": [
        "fpr, tpr, _ = metrics.roc_curve(y_test,  y_pred)\n",
        "auc = metrics.roc_auc_score(y_test, y_pred)\n",
        "plt.plot(fpr,tpr,label=\" acurácia=\"+str(auc)[:4])\n",
        "plt.legend(loc=4)\n",
        "plt.plot([0, 1], [0, 1], linestyle='--')\n",
        "plt.xlabel(\"Taxa de falso positivo (FPR)\")\n",
        "plt.ylabel(\"Taxa de positivo (TPR)\")\n",
        "plt.title(\"Curva ROC do modelo\")\n",
        "plt.show()"
      ],
      "execution_count": 32,
      "outputs": [
        {
          "output_type": "display_data",
          "data": {
            "image/png": "[encoded data removed]",
            "text/plain": [
              "<Figure size 432x288 with 1 Axes>"
            ]
          },
          "metadata": {
            "tags": []
          }
        }
      ]
    },
    {
      "cell_type": "markdown",
      "metadata": {
        "id": "sxXdyUo6eLxv",
        "colab_type": "text"
      },
      "source": [
        "Criando a matriz de Confusão"
      ]
    },
    {
      "cell_type": "code",
      "metadata": {
        "id": "euAw7MW39cxg",
        "colab_type": "code",
        "colab": {}
      },
      "source": [
        "y_pred = (y_pred > 0.5)"
      ],
      "execution_count": 0,
      "outputs": []
    },
    {
      "cell_type": "code",
      "metadata": {
        "id": "vwnV8RCO9fzJ",
        "colab_type": "code",
        "colab": {}
      },
      "source": [
        "cm = confusion_matrix(y_test, y_pred)"
      ],
      "execution_count": 0,
      "outputs": []
    },
    {
      "cell_type": "code",
      "metadata": {
        "id": "fWx88UX2-mkf",
        "colab_type": "code",
        "outputId": "2c415da5-8ccb-40f2-81e5-da00fa089f54",
        "colab": {
          "base_uri": "https://localhost:8080/",
          "height": 295
        }
      },
      "source": [
        "ax= plt.subplot()\n",
        "sns.heatmap(cm, annot=True, ax = ax,fmt='g')\n",
        "\n",
        "ax.set_xlabel('Previsto');ax.set_ylabel('Real'); \n",
        "ax.set_title('Matriz de Confusão'); \n",
        "ax.xaxis.set_ticklabels(['Ficou', \"Saiu\"]); ax.yaxis.set_ticklabels(['Ficou',\"Saiu\"])\n",
        "plt.show()"
      ],
      "execution_count": 35,
      "outputs": [
        {
          "output_type": "display_data",
          "data": {
            "image/png": "[encoded data removed]",
            "text/plain": [
              "<Figure size 432x288 with 2 Axes>"
            ]
          },
          "metadata": {
            "tags": []
          }
        }
      ]
    },
    {
      "cell_type": "markdown",
      "metadata": {
        "id": "DEPD-iVdO5RD",
        "colab_type": "text"
      },
      "source": [
        "## ANN - Teste2"
      ]
    },
    {
      "cell_type": "markdown",
      "metadata": {
        "id": "zqyiC_pefjn7",
        "colab_type": "text"
      },
      "source": [
        "Craiando um modelo com uma única camada com dez neurônios:"
      ]
    },
    {
      "cell_type": "code",
      "metadata": {
        "id": "MgzHgZd6gLvX",
        "colab_type": "code",
        "colab": {}
      },
      "source": [
        "classifier2 = Sequential()\n",
        "classifier2.add(Dense(units = 10, kernel_initializer = 'uniform', activation = 'relu', input_dim = 11))\n",
        "classifier2.add(Dense(units = 1, kernel_initializer = 'uniform', activation = 'sigmoid'))\n",
        "classifier2.compile(RMSprop(lr=0.001), loss = 'binary_crossentropy', metrics = ['accuracy'])"
      ],
      "execution_count": 0,
      "outputs": []
    },
    {
      "cell_type": "markdown",
      "metadata": {
        "id": "LlpmK78e_XrV",
        "colab_type": "text"
      },
      "source": [
        "Informações da rede:"
      ]
    },
    {
      "cell_type": "code",
      "metadata": {
        "id": "3dV9Z0xPgPlW",
        "colab_type": "code",
        "colab": {
          "base_uri": "https://localhost:8080/",
          "height": 218
        },
        "outputId": "034d7b0b-3cea-4f92-dbd3-3d62d4c5acfd"
      },
      "source": [
        "print(classifier2.summary())"
      ],
      "execution_count": 37,
      "outputs": [
        {
          "output_type": "stream",
          "text": [
            "_________________________________________________________________\n",
            "Layer (type)                 Output Shape              Param #   \n",
            "=================================================================\n",
            "dense_7 (Dense)              (None, 10)                120       \n",
            "_________________________________________________________________\n",
            "dense_8 (Dense)              (None, 1)                 11        \n",
            "=================================================================\n",
            "Total params: 131\n",
            "Trainable params: 131\n",
            "Non-trainable params: 0\n",
            "_________________________________________________________________\n",
            "None\n"
          ],
          "name": "stdout"
        }
      ]
    },
    {
      "cell_type": "code",
      "metadata": {
        "id": "Q7S9e2a9gSxF",
        "colab_type": "code",
        "colab": {
          "base_uri": "https://localhost:8080/",
          "height": 1042
        },
        "outputId": "1b8481fb-b4c8-4521-c391-0776a7ee1c2a"
      },
      "source": [
        "history2 = classifier2.fit(X_train, y_train, batch_size = 10, epochs = 30,validation_data=(X_test,y_test))"
      ],
      "execution_count": 38,
      "outputs": [
        {
          "output_type": "stream",
          "text": [
            "Train on 8000 samples, validate on 2000 samples\n",
            "Epoch 1/30\n",
            "8000/8000 [==============================] - 2s 296us/step - loss: 0.4951 - acc: 0.7950 - val_loss: 0.4215 - val_acc: 0.7980\n",
            "Epoch 2/30\n",
            "8000/8000 [==============================] - 2s 257us/step - loss: 0.4184 - acc: 0.8150 - val_loss: 0.4062 - val_acc: 0.8385\n",
            "Epoch 3/30\n",
            "8000/8000 [==============================] - 2s 256us/step - loss: 0.4053 - acc: 0.8289 - val_loss: 0.3954 - val_acc: 0.8370\n",
            "Epoch 4/30\n",
            "8000/8000 [==============================] - 2s 257us/step - loss: 0.3956 - acc: 0.8312 - val_loss: 0.3871 - val_acc: 0.8395\n",
            "Epoch 5/30\n",
            "8000/8000 [==============================] - 2s 259us/step - loss: 0.3893 - acc: 0.8314 - val_loss: 0.3807 - val_acc: 0.8370\n",
            "Epoch 6/30\n",
            "8000/8000 [==============================] - 2s 256us/step - loss: 0.3841 - acc: 0.8332 - val_loss: 0.3758 - val_acc: 0.8375\n",
            "Epoch 7/30\n",
            "8000/8000 [==============================] - 2s 255us/step - loss: 0.3812 - acc: 0.8326 - val_loss: 0.3736 - val_acc: 0.8355\n",
            "Epoch 8/30\n",
            "8000/8000 [==============================] - 2s 256us/step - loss: 0.3780 - acc: 0.8339 - val_loss: 0.3724 - val_acc: 0.8325\n",
            "Epoch 9/30\n",
            "8000/8000 [==============================] - 2s 256us/step - loss: 0.3757 - acc: 0.8349 - val_loss: 0.3690 - val_acc: 0.8430\n",
            "Epoch 10/30\n",
            "8000/8000 [==============================] - 2s 258us/step - loss: 0.3735 - acc: 0.8416 - val_loss: 0.3676 - val_acc: 0.8490\n",
            "Epoch 11/30\n",
            "8000/8000 [==============================] - 2s 257us/step - loss: 0.3719 - acc: 0.8420 - val_loss: 0.3658 - val_acc: 0.8450\n",
            "Epoch 12/30\n",
            "8000/8000 [==============================] - 2s 256us/step - loss: 0.3703 - acc: 0.8440 - val_loss: 0.3648 - val_acc: 0.8470\n",
            "Epoch 13/30\n",
            "8000/8000 [==============================] - 2s 257us/step - loss: 0.3689 - acc: 0.8457 - val_loss: 0.3599 - val_acc: 0.8455\n",
            "Epoch 14/30\n",
            "8000/8000 [==============================] - 2s 254us/step - loss: 0.3674 - acc: 0.8465 - val_loss: 0.3584 - val_acc: 0.8465\n",
            "Epoch 15/30\n",
            "8000/8000 [==============================] - 2s 255us/step - loss: 0.3663 - acc: 0.8494 - val_loss: 0.3599 - val_acc: 0.8510\n",
            "Epoch 16/30\n",
            "8000/8000 [==============================] - 2s 256us/step - loss: 0.3655 - acc: 0.8500 - val_loss: 0.3587 - val_acc: 0.8500\n",
            "Epoch 17/30\n",
            "8000/8000 [==============================] - 2s 256us/step - loss: 0.3634 - acc: 0.8481 - val_loss: 0.3565 - val_acc: 0.8545\n",
            "Epoch 18/30\n",
            "8000/8000 [==============================] - 2s 255us/step - loss: 0.3632 - acc: 0.8501 - val_loss: 0.3531 - val_acc: 0.8520\n",
            "Epoch 19/30\n",
            "8000/8000 [==============================] - 2s 256us/step - loss: 0.3615 - acc: 0.8524 - val_loss: 0.3569 - val_acc: 0.8535\n",
            "Epoch 20/30\n",
            "8000/8000 [==============================] - 2s 257us/step - loss: 0.3612 - acc: 0.8526 - val_loss: 0.3520 - val_acc: 0.8550\n",
            "Epoch 21/30\n",
            "8000/8000 [==============================] - 2s 255us/step - loss: 0.3603 - acc: 0.8544 - val_loss: 0.3544 - val_acc: 0.8525\n",
            "Epoch 22/30\n",
            "8000/8000 [==============================] - 2s 255us/step - loss: 0.3591 - acc: 0.8530 - val_loss: 0.3512 - val_acc: 0.8545\n",
            "Epoch 23/30\n",
            "8000/8000 [==============================] - 2s 257us/step - loss: 0.3593 - acc: 0.8532 - val_loss: 0.3515 - val_acc: 0.8535\n",
            "Epoch 24/30\n",
            "8000/8000 [==============================] - 2s 285us/step - loss: 0.3584 - acc: 0.8540 - val_loss: 0.3486 - val_acc: 0.8560\n",
            "Epoch 25/30\n",
            "8000/8000 [==============================] - 2s 311us/step - loss: 0.3575 - acc: 0.8547 - val_loss: 0.3527 - val_acc: 0.8545\n",
            "Epoch 26/30\n",
            "8000/8000 [==============================] - 3s 313us/step - loss: 0.3576 - acc: 0.8554 - val_loss: 0.3483 - val_acc: 0.8575\n",
            "Epoch 27/30\n",
            "8000/8000 [==============================] - 2s 311us/step - loss: 0.3569 - acc: 0.8547 - val_loss: 0.3487 - val_acc: 0.8545\n",
            "Epoch 28/30\n",
            "8000/8000 [==============================] - 2s 290us/step - loss: 0.3562 - acc: 0.8544 - val_loss: 0.3459 - val_acc: 0.8535\n",
            "Epoch 29/30\n",
            "8000/8000 [==============================] - 2s 258us/step - loss: 0.3559 - acc: 0.8554 - val_loss: 0.3456 - val_acc: 0.8560\n",
            "Epoch 30/30\n",
            "8000/8000 [==============================] - 2s 261us/step - loss: 0.3548 - acc: 0.8566 - val_loss: 0.3480 - val_acc: 0.8510\n"
          ],
          "name": "stdout"
        }
      ]
    },
    {
      "cell_type": "markdown",
      "metadata": {
        "id": "6RcfVAZJ_2wb",
        "colab_type": "text"
      },
      "source": [
        "### Análise Teste 2"
      ]
    },
    {
      "cell_type": "code",
      "metadata": {
        "id": "Or3whDKxtMUK",
        "colab_type": "code",
        "colab": {
          "base_uri": "https://localhost:8080/",
          "height": 297
        },
        "outputId": "940bfc38-df5e-45a1-a6d9-97edfee00bf9"
      },
      "source": [
        "plt.plot(history.history['loss'], label='train loss')\n",
        "plt.plot(history.history['val_loss'], label='val loss')\n",
        "plt.legend()\n",
        "plt.title(\"Erro nos conjuntos de treinamento e validação\")\n",
        "plt.xlabel(\"Épocas\")\n",
        "plt.ylabel(\"Erro\")\n",
        "plt.show()"
      ],
      "execution_count": 39,
      "outputs": [
        {
          "output_type": "display_data",
          "data": {
            "image/png": "[encoded data removed]",
            "text/plain": [
              "<Figure size 432x288 with 1 Axes>"
            ]
          },
          "metadata": {
            "tags": []
          }
        }
      ]
    },
    {
      "cell_type": "code",
      "metadata": {
        "id": "CJQ0cDIdtXZi",
        "colab_type": "code",
        "colab": {
          "base_uri": "https://localhost:8080/",
          "height": 297
        },
        "outputId": "e063c7c3-9cf6-4e28-f67a-a82084f31432"
      },
      "source": [
        "plt.plot(history.history['acc'], label='train acc')\n",
        "plt.plot(history.history['val_acc'], label='val acc')\n",
        "plt.legend()\n",
        "plt.title(\"Acurácia nos conjuntos de treinamento e validação\")\n",
        "plt.xlabel(\"Épocas\")\n",
        "plt.ylabel(\"Acurácia\")\n",
        "plt.show()"
      ],
      "execution_count": 40,
      "outputs": [
        {
          "output_type": "display_data",
          "data": {
            "image/png": "[encoded data removed]",
            "text/plain": [
              "<Figure size 432x288 with 1 Axes>"
            ]
          },
          "metadata": {
            "tags": []
          }
        }
      ]
    },
    {
      "cell_type": "markdown",
      "metadata": {
        "id": "9eWrGi75_6m1",
        "colab_type": "text"
      },
      "source": [
        "Criando a curva roc do modelo:"
      ]
    },
    {
      "cell_type": "code",
      "metadata": {
        "id": "1AoNjD97nfZE",
        "colab_type": "code",
        "colab": {}
      },
      "source": [
        "y_pred = classifier2.predict(X_test)"
      ],
      "execution_count": 0,
      "outputs": []
    },
    {
      "cell_type": "code",
      "metadata": {
        "id": "6EjcxXD8n28o",
        "colab_type": "code",
        "colab": {
          "base_uri": "https://localhost:8080/",
          "height": 295
        },
        "outputId": "633d0f81-4652-4ed4-a995-de0f6249031c"
      },
      "source": [
        "fpr, tpr, _ = metrics.roc_curve(y_test,  y_pred)\n",
        "auc = metrics.roc_auc_score(y_test, y_pred)\n",
        "plt.plot(fpr,tpr,label=\" acurácia=\"+str(auc)[:4])\n",
        "plt.legend(loc=4)\n",
        "plt.plot([0, 1], [0, 1], linestyle='--')\n",
        "plt.xlabel(\"Taxa de falso positivo(FPR)\")\n",
        "plt.ylabel(\"Taxa de positivo (TPR)\")\n",
        "plt.title(\"Curva ROC do modelo\")\n",
        "plt.show()"
      ],
      "execution_count": 43,
      "outputs": [
        {
          "output_type": "display_data",
          "data": {
            "image/png": "[encoded data removed]",
            "text/plain": [
              "<Figure size 432x288 with 1 Axes>"
            ]
          },
          "metadata": {
            "tags": []
          }
        }
      ]
    },
    {
      "cell_type": "markdown",
      "metadata": {
        "id": "AffBmSpuAIeg",
        "colab_type": "text"
      },
      "source": [
        "Criação da matriz de confusão"
      ]
    },
    {
      "cell_type": "code",
      "metadata": {
        "id": "9-jt9dojsBCG",
        "colab_type": "code",
        "colab": {
          "base_uri": "https://localhost:8080/",
          "height": 295
        },
        "outputId": "900e397e-b6c3-4181-db43-2c280871e121"
      },
      "source": [
        "y_pred = (y_pred > 0.5)\n",
        "cm = confusion_matrix(y_test, y_pred)\n",
        "ax= plt.subplot()\n",
        "sns.heatmap(cm, annot=True, ax = ax,fmt='g')\n",
        "\n",
        "ax.set_xlabel('Previsto');ax.set_ylabel('Real'); \n",
        "ax.set_title('Matriz de Confusão'); \n",
        "ax.xaxis.set_ticklabels(['Ficou', \"Saiu\"]); ax.yaxis.set_ticklabels(['Ficou',\"Saiu\"])\n",
        "plt.show()"
      ],
      "execution_count": 44,
      "outputs": [
        {
          "output_type": "display_data",
          "data": {
            "image/png": "[encoded data removed]",
            "text/plain": [
              "<Figure size 432x288 with 2 Axes>"
            ]
          },
          "metadata": {
            "tags": []
          }
        }
      ]
    },
    {
      "cell_type": "markdown",
      "metadata": {
        "id": "t-hgvwl2tj5j",
        "colab_type": "text"
      },
      "source": [
        "## Observações sobre os modelos:"
      ]
    },
    {
      "cell_type": "markdown",
      "metadata": {
        "id": "2m9KrVuAA-Gu",
        "colab_type": "text"
      },
      "source": [
        "\n",
        "\n",
        "1.   Se quisermos levar em conta apenas a precisão do modelo claramente o classificador do teste 2 leva vantagem e deve ser escolhido. \n",
        "2.   O classificador 1 possui mais número de falsos negativos, usuários que foram classificados para não deixar o banco mas que na verdade deixaram.\n",
        "3.  O classificador 2 possui mais número de falsos positivos, usuários que foram classificados para deixar o banco mas que na verdade não saíram.\n",
        "4. O conjunto de dados é desbalanceado e o classificador 2 previu um total maior de usuários que deixaram o banco, conseguindo lidar com essa dificuldade, por isso a performance melhor e deve ser utilizado.\n"
      ]
    }
  ]
}